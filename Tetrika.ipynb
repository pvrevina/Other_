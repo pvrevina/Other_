{
 "cells": [
  {
   "cell_type": "code",
   "execution_count": 1,
   "metadata": {},
   "outputs": [],
   "source": [
    "import pandas as pd"
   ]
  },
  {
   "cell_type": "markdown",
   "metadata": {},
   "source": [
    "### Задание 1\n",
    "Загрузим данные: "
   ]
  },
  {
   "cell_type": "code",
   "execution_count": 470,
   "metadata": {},
   "outputs": [],
   "source": [
    "f = open('name.txt')"
   ]
  },
  {
   "cell_type": "code",
   "execution_count": 471,
   "metadata": {},
   "outputs": [],
   "source": [
    "lines = [line.strip(',') for line in open ('name.txt')]"
   ]
  },
  {
   "cell_type": "code",
   "execution_count": 472,
   "metadata": {},
   "outputs": [],
   "source": [
    "a = [i.strip('\"') for i in lines[0].split(\",\")]"
   ]
  },
  {
   "cell_type": "code",
   "execution_count": 473,
   "metadata": {},
   "outputs": [
    {
     "data": {
      "text/plain": [
       "['MARY',\n",
       " 'PATRICIA',\n",
       " 'LINDA',\n",
       " 'BARBARA',\n",
       " 'ELIZABETH',\n",
       " 'JENNIFER',\n",
       " 'MARIA',\n",
       " 'SUSAN',\n",
       " 'MARGARET',\n",
       " 'DOROTHY']"
      ]
     },
     "execution_count": 473,
     "metadata": {},
     "output_type": "execute_result"
    }
   ],
   "source": [
    "a[:10]"
   ]
  },
  {
   "cell_type": "markdown",
   "metadata": {},
   "source": [
    "1) Отсортировать все имена в лексикографическом порядке"
   ]
  },
  {
   "cell_type": "code",
   "execution_count": 474,
   "metadata": {},
   "outputs": [],
   "source": [
    "sort_list = sorted(a)"
   ]
  },
  {
   "cell_type": "code",
   "execution_count": 476,
   "metadata": {},
   "outputs": [
    {
     "data": {
      "text/plain": [
       "['AARON',\n",
       " 'ABBEY',\n",
       " 'ABBIE',\n",
       " 'ABBY',\n",
       " 'ABDUL',\n",
       " 'ABE',\n",
       " 'ABEL',\n",
       " 'ABIGAIL',\n",
       " 'ABRAHAM',\n",
       " 'ABRAM']"
      ]
     },
     "execution_count": 476,
     "metadata": {},
     "output_type": "execute_result"
    }
   ],
   "source": [
    "sort_list[:10]"
   ]
  },
  {
   "cell_type": "markdown",
   "metadata": {},
   "source": [
    "2) Посчитать для каждого имени алфавитную сумму – сумму порядковых номеров букв (MAY: 13 + 1 + 25 = 39)"
   ]
  },
  {
   "cell_type": "code",
   "execution_count": 477,
   "metadata": {},
   "outputs": [],
   "source": [
    "import string"
   ]
  },
  {
   "cell_type": "code",
   "execution_count": 478,
   "metadata": {
    "scrolled": true
   },
   "outputs": [],
   "source": [
    "alph = list(string.ascii_letters.split(\"abcdefghijklmnopqrstuvwxyz\")[-1])"
   ]
  },
  {
   "cell_type": "code",
   "execution_count": 479,
   "metadata": {
    "scrolled": true
   },
   "outputs": [
    {
     "data": {
      "text/plain": [
       "['A', 'B', 'C', 'D', 'E', 'F', 'G', 'H', 'I', 'J']"
      ]
     },
     "execution_count": 479,
     "metadata": {},
     "output_type": "execute_result"
    }
   ],
   "source": [
    "alph[:10]"
   ]
  },
  {
   "cell_type": "code",
   "execution_count": 480,
   "metadata": {},
   "outputs": [],
   "source": [
    "list_lists = [list(i) for i in sort_list]"
   ]
  },
  {
   "cell_type": "code",
   "execution_count": 545,
   "metadata": {},
   "outputs": [
    {
     "data": {
      "text/plain": [
       "[['A', 'A', 'R', 'O', 'N'],\n",
       " ['A', 'B', 'B', 'E', 'Y'],\n",
       " ['A', 'B', 'B', 'I', 'E'],\n",
       " ['A', 'B', 'B', 'Y'],\n",
       " ['A', 'B', 'D', 'U', 'L'],\n",
       " ['A', 'B', 'E'],\n",
       " ['A', 'B', 'E', 'L'],\n",
       " ['A', 'B', 'I', 'G', 'A', 'I', 'L'],\n",
       " ['A', 'B', 'R', 'A', 'H', 'A', 'M'],\n",
       " ['A', 'B', 'R', 'A', 'M']]"
      ]
     },
     "execution_count": 545,
     "metadata": {},
     "output_type": "execute_result"
    }
   ],
   "source": [
    "list_lists[:10]"
   ]
  },
  {
   "cell_type": "code",
   "execution_count": 482,
   "metadata": {},
   "outputs": [],
   "source": [
    "summa = 0\n",
    "sum_list = []\n",
    "for i in list_lists: \n",
    "    for m in i: \n",
    "        summa += int(alph.index(m)+1)\n",
    "    sum_list.append(summa)\n",
    "    summa = 0"
   ]
  },
  {
   "cell_type": "code",
   "execution_count": 484,
   "metadata": {
    "scrolled": true
   },
   "outputs": [
    {
     "data": {
      "text/plain": [
       "[49, 35, 19, 30, 40, 8, 20, 41, 44, 35]"
      ]
     },
     "execution_count": 484,
     "metadata": {},
     "output_type": "execute_result"
    }
   ],
   "source": [
    "sum_list[:10]"
   ]
  },
  {
   "cell_type": "markdown",
   "metadata": {},
   "source": [
    "3) Умножить алфавитную сумму каждого имени на порядковый номер имени в отсортированном списке (индексация начинается с 1). Например, если MAY находится на 63 месте в списке, то результат для него будет 63 * 39 = 2457."
   ]
  },
  {
   "cell_type": "code",
   "execution_count": 485,
   "metadata": {},
   "outputs": [],
   "source": [
    "sum_index = []\n",
    "for i, n in enumerate(sort_list): \n",
    "    index = i+1\n",
    "    sum_index.append(index*sum_list[i])"
   ]
  },
  {
   "cell_type": "code",
   "execution_count": 486,
   "metadata": {},
   "outputs": [
    {
     "data": {
      "text/plain": [
       "[49, 70, 57, 120, 200, 48, 140, 328, 396, 350]"
      ]
     },
     "execution_count": 486,
     "metadata": {},
     "output_type": "execute_result"
    }
   ],
   "source": [
    "sum_index[:10]"
   ]
  },
  {
   "cell_type": "markdown",
   "metadata": {},
   "source": [
    "4) Просуммировать произведения из п. 3 для всех имен из файла и получить число. Это число и будет ответом."
   ]
  },
  {
   "cell_type": "code",
   "execution_count": 487,
   "metadata": {},
   "outputs": [
    {
     "data": {
      "text/plain": [
       "871853874"
      ]
     },
     "execution_count": 487,
     "metadata": {},
     "output_type": "execute_result"
    }
   ],
   "source": [
    "sum(sum_index)"
   ]
  },
  {
   "cell_type": "markdown",
   "metadata": {},
   "source": [
    "### Задание 2"
   ]
  },
  {
   "cell_type": "code",
   "execution_count": 488,
   "metadata": {},
   "outputs": [],
   "source": [
    "lines = [line.strip(',') for line in open ('hits.txt')]"
   ]
  },
  {
   "cell_type": "code",
   "execution_count": 489,
   "metadata": {},
   "outputs": [
    {
     "data": {
      "text/plain": [
       "['https://wikipedia.org\\t72.110.191.15\\t/friends/files\\n',\n",
       " 'rambler.ru\\t142.93.168.247\\t/universe.php\\n',\n",
       " 'ftp://info.itar-tass.com\\t90.68.118.69\\t/login/monitors/static/me\\n',\n",
       " 'http://altavista.com\\t18.79.197.236\\t/friends/tasks/universe\\n',\n",
       " 'ftp://tetrika-school.ru\\t115.26.250.226\\t/translate/anekdots/my-files/monday\\n',\n",
       " 'www.habr.com\\t128.79.84.100\\t/medium\\n',\n",
       " '2ip.ru\\t189.191.232.240\\t/lesson/store/anekdots/img\\n',\n",
       " 'ftp://garant.ru\\t74.125.206.96\\t/logout/my-tutors\\n',\n",
       " '2ip.ru\\t148.64.151.25\\t/img/posts/balance\\n',\n",
       " 'public.ru\\t40.9.218.163\\t/signin.php\\n']"
      ]
     },
     "execution_count": 489,
     "metadata": {},
     "output_type": "execute_result"
    }
   ],
   "source": [
    "lines[:10]"
   ]
  },
  {
   "cell_type": "code",
   "execution_count": 490,
   "metadata": {},
   "outputs": [
    {
     "data": {
      "text/plain": [
       "934439"
      ]
     },
     "execution_count": 490,
     "metadata": {},
     "output_type": "execute_result"
    }
   ],
   "source": [
    "len(lines)"
   ]
  },
  {
   "cell_type": "markdown",
   "metadata": {},
   "source": [
    "``<host>\\t<ip>\\t<page>\\n``\n",
    "\n",
    "Нужно вывести 5 айпи-адресов, которые встречаются чаще других."
   ]
  },
  {
   "cell_type": "code",
   "execution_count": 491,
   "metadata": {},
   "outputs": [],
   "source": [
    "ips = []\n",
    "for i in lines:\n",
    "    a= i.split(\"\\t\")\n",
    "    ips.append(a[1])"
   ]
  },
  {
   "cell_type": "code",
   "execution_count": 492,
   "metadata": {},
   "outputs": [
    {
     "data": {
      "text/plain": [
       "['72.110.191.15',\n",
       " '142.93.168.247',\n",
       " '90.68.118.69',\n",
       " '18.79.197.236',\n",
       " '115.26.250.226',\n",
       " '128.79.84.100',\n",
       " '189.191.232.240',\n",
       " '74.125.206.96',\n",
       " '148.64.151.25',\n",
       " '40.9.218.163']"
      ]
     },
     "execution_count": 492,
     "metadata": {},
     "output_type": "execute_result"
    }
   ],
   "source": [
    "ips[:10]"
   ]
  },
  {
   "cell_type": "code",
   "execution_count": 493,
   "metadata": {},
   "outputs": [],
   "source": [
    "from collections import Counter"
   ]
  },
  {
   "cell_type": "code",
   "execution_count": 494,
   "metadata": {},
   "outputs": [],
   "source": [
    "counter=Counter(ips)"
   ]
  },
  {
   "cell_type": "code",
   "execution_count": 495,
   "metadata": {},
   "outputs": [
    {
     "name": "stdout",
     "output_type": "stream",
     "text": [
      "[('154.157.157.156', 1161), ('238.244.2.48', 1135), ('194.78.107.33', 1131), ('82.146.232.163', 1120), ('226.247.119.128', 1119)]\n"
     ]
    }
   ],
   "source": [
    "print(counter.most_common(5))"
   ]
  },
  {
   "cell_type": "markdown",
   "metadata": {},
   "source": [
    "### Задание 3\n",
    "\n",
    "lessons.txt содержит следующие поля:\n",
    "id – уникальный идентификатор урока.\n",
    "event_id – идентификатор, связывающий уроки с файлом participants. У нескольких уроков может быть один и тот же event_id. Подробнее про это будет позже\n",
    "subject – предмет урока, просто строка\n",
    "scheduled_time – время начала урока, в формате ГГГГ-ММ-ДД чч:мм:сс (иногда есть еще миллисекунды). Время указано в UTC.\n",
    "\n",
    "quality.txt содержит следующие поля:\n",
    "lesson_id – идентификатор урока, указывает на запись в таблице lessons.txt. У нескольких строчек из этого файла может быть один и тот же lesson_id, потому что оценок за урок может быть несколько (например, оба участника, ученик и репетитор могут оценить качество урока)\n",
    "tech_quality – собственно оценка качества урока. Это число от 1 до 5. Иногда его может не быть, если пользователь не выставил оценку.\n",
    "\n",
    "users.txt хранит информацию о пользователях и содержит всего два поля:\n",
    "id – уникальный идентификатор пользователя\n",
    "role – указывает является ли пользователь учеником (pupil) или учителем (tutor)\n",
    "\n",
    "Файл participants.txt позволяет связать урок с его участниками. Он содержит следующие поля:\n",
    "user_id – идентификатор пользователя (указывает на запись в файле users.txt)\n",
    "event_id – идентификатор, связывающий урок с участником. То есть, чтобы понять, какие пользователи были на уроке Х, нужно найти в файле participants.txt строки, у которых event_id совпадает с event_id урока Х."
   ]
  },
  {
   "cell_type": "code",
   "execution_count": 496,
   "metadata": {},
   "outputs": [],
   "source": [
    "f = open(\"lessons.txt\")"
   ]
  },
  {
   "cell_type": "code",
   "execution_count": 497,
   "metadata": {},
   "outputs": [],
   "source": [
    "l2 = [(row.strip(\"\\n\").strip(\" \")).split(\"|\") for row in f]"
   ]
  },
  {
   "cell_type": "code",
   "execution_count": 498,
   "metadata": {},
   "outputs": [],
   "source": [
    "lessons = pd.DataFrame(columns=['id', 'event_id', 'subject', 'scheduled_time'])"
   ]
  },
  {
   "cell_type": "code",
   "execution_count": 499,
   "metadata": {},
   "outputs": [
    {
     "data": {
      "text/html": [
       "<div>\n",
       "<style scoped>\n",
       "    .dataframe tbody tr th:only-of-type {\n",
       "        vertical-align: middle;\n",
       "    }\n",
       "\n",
       "    .dataframe tbody tr th {\n",
       "        vertical-align: top;\n",
       "    }\n",
       "\n",
       "    .dataframe thead th {\n",
       "        text-align: right;\n",
       "    }\n",
       "</style>\n",
       "<table border=\"1\" class=\"dataframe\">\n",
       "  <thead>\n",
       "    <tr style=\"text-align: right;\">\n",
       "      <th></th>\n",
       "      <th>id</th>\n",
       "      <th>event_id</th>\n",
       "      <th>subject</th>\n",
       "      <th>scheduled_time</th>\n",
       "    </tr>\n",
       "  </thead>\n",
       "  <tbody>\n",
       "  </tbody>\n",
       "</table>\n",
       "</div>"
      ],
      "text/plain": [
       "Empty DataFrame\n",
       "Columns: [id, event_id, subject, scheduled_time]\n",
       "Index: []"
      ]
     },
     "execution_count": 499,
     "metadata": {},
     "output_type": "execute_result"
    }
   ],
   "source": [
    "lessons"
   ]
  },
  {
   "cell_type": "code",
   "execution_count": 500,
   "metadata": {
    "scrolled": true
   },
   "outputs": [],
   "source": [
    "for row in range(len(l2[2:-2])):\n",
    "#     print(row+2)\n",
    "    lessons.loc[row] = l2[row+2]"
   ]
  },
  {
   "cell_type": "code",
   "execution_count": 502,
   "metadata": {},
   "outputs": [
    {
     "data": {
      "text/html": [
       "<div>\n",
       "<style scoped>\n",
       "    .dataframe tbody tr th:only-of-type {\n",
       "        vertical-align: middle;\n",
       "    }\n",
       "\n",
       "    .dataframe tbody tr th {\n",
       "        vertical-align: top;\n",
       "    }\n",
       "\n",
       "    .dataframe thead th {\n",
       "        text-align: right;\n",
       "    }\n",
       "</style>\n",
       "<table border=\"1\" class=\"dataframe\">\n",
       "  <thead>\n",
       "    <tr style=\"text-align: right;\">\n",
       "      <th></th>\n",
       "      <th>id</th>\n",
       "      <th>event_id</th>\n",
       "      <th>subject</th>\n",
       "      <th>scheduled_time</th>\n",
       "    </tr>\n",
       "  </thead>\n",
       "  <tbody>\n",
       "    <tr>\n",
       "      <td>0</td>\n",
       "      <td>1e7bb408-cfef-4a9f-8328-351c9483a64c</td>\n",
       "      <td>38114</td>\n",
       "      <td>phys</td>\n",
       "      <td>2020-01-19 12:00:00</td>\n",
       "    </tr>\n",
       "    <tr>\n",
       "      <td>1</td>\n",
       "      <td>6d8e59d9-a7c8-4bb3-8ff3-99cd07acdf1a</td>\n",
       "      <td>51568</td>\n",
       "      <td>it</td>\n",
       "      <td>2020-01-19 13:00:00</td>\n",
       "    </tr>\n",
       "    <tr>\n",
       "      <td>2</td>\n",
       "      <td>62e1a078-33de-47c1-99d2-845b1daca56f</td>\n",
       "      <td>52790</td>\n",
       "      <td>hist</td>\n",
       "      <td>2020-01-19 13:00:00</td>\n",
       "    </tr>\n",
       "    <tr>\n",
       "      <td>3</td>\n",
       "      <td>00fc6685-f53a-49bb-b960-5e0042fd3852</td>\n",
       "      <td>51341</td>\n",
       "      <td>phys</td>\n",
       "      <td>2020-01-17 12:00:00</td>\n",
       "    </tr>\n",
       "    <tr>\n",
       "      <td>4</td>\n",
       "      <td>4cadf623-82e6-422f-a342-acf978302fb2</td>\n",
       "      <td>55048</td>\n",
       "      <td>phys</td>\n",
       "      <td>2020-01-19 14:00:00</td>\n",
       "    </tr>\n",
       "  </tbody>\n",
       "</table>\n",
       "</div>"
      ],
      "text/plain": [
       "                                      id    event_id    subject  \\\n",
       "0  1e7bb408-cfef-4a9f-8328-351c9483a64c       38114    phys       \n",
       "1  6d8e59d9-a7c8-4bb3-8ff3-99cd07acdf1a       51568    it         \n",
       "2  62e1a078-33de-47c1-99d2-845b1daca56f       52790    hist       \n",
       "3  00fc6685-f53a-49bb-b960-5e0042fd3852       51341    phys       \n",
       "4  4cadf623-82e6-422f-a342-acf978302fb2       55048    phys       \n",
       "\n",
       "         scheduled_time  \n",
       "0   2020-01-19 12:00:00  \n",
       "1   2020-01-19 13:00:00  \n",
       "2   2020-01-19 13:00:00  \n",
       "3   2020-01-17 12:00:00  \n",
       "4   2020-01-19 14:00:00  "
      ]
     },
     "execution_count": 502,
     "metadata": {},
     "output_type": "execute_result"
    }
   ],
   "source": [
    "lessons.head()"
   ]
  },
  {
   "cell_type": "code",
   "execution_count": 503,
   "metadata": {},
   "outputs": [],
   "source": [
    "f = open(\"users.txt\")\n",
    "l3 = [(row.strip(\"\\n\").strip(\" \")).split(\"|\") for row in f]"
   ]
  },
  {
   "cell_type": "code",
   "execution_count": 504,
   "metadata": {},
   "outputs": [
    {
     "data": {
      "text/plain": [
       "[['id                  ', ' role'],\n",
       " ['--------------------------------------+-------'],\n",
       " ['e28351f5-4ccb-4549-8647-d43f2b15e7b8 ', ' pupil'],\n",
       " ['4df2832a-1d63-4453-9659-43993fc35996 ', ' tutor'],\n",
       " ['bb1c0bc8-1212-452b-97a0-439d4a2169e2 ', ' pupil'],\n",
       " ['63441abe-c4da-4275-ba26-66f7dbd65dde ', ' tutor'],\n",
       " ['a1323b68-c82c-429a-8e2c-65597e648c1a ', ' tutor'],\n",
       " ['e866fbd8-a46b-4431-9e19-f0966981f6c9 ', ' pupil'],\n",
       " ['4ab072ed-8a41-4ed6-9877-8f1d1fbb24d2 ', ' pupil'],\n",
       " ['30a19496-bdaf-461c-abbc-2709ae520201 ', ' tutor']]"
      ]
     },
     "execution_count": 504,
     "metadata": {},
     "output_type": "execute_result"
    }
   ],
   "source": [
    "l3[:10]"
   ]
  },
  {
   "cell_type": "code",
   "execution_count": 505,
   "metadata": {},
   "outputs": [
    {
     "data": {
      "text/html": [
       "<div>\n",
       "<style scoped>\n",
       "    .dataframe tbody tr th:only-of-type {\n",
       "        vertical-align: middle;\n",
       "    }\n",
       "\n",
       "    .dataframe tbody tr th {\n",
       "        vertical-align: top;\n",
       "    }\n",
       "\n",
       "    .dataframe thead th {\n",
       "        text-align: right;\n",
       "    }\n",
       "</style>\n",
       "<table border=\"1\" class=\"dataframe\">\n",
       "  <thead>\n",
       "    <tr style=\"text-align: right;\">\n",
       "      <th></th>\n",
       "      <th>id</th>\n",
       "      <th>role</th>\n",
       "    </tr>\n",
       "  </thead>\n",
       "  <tbody>\n",
       "  </tbody>\n",
       "</table>\n",
       "</div>"
      ],
      "text/plain": [
       "Empty DataFrame\n",
       "Columns: [id, role]\n",
       "Index: []"
      ]
     },
     "execution_count": 505,
     "metadata": {},
     "output_type": "execute_result"
    }
   ],
   "source": [
    "users = pd.DataFrame(columns=['id', 'role'])\n",
    "users"
   ]
  },
  {
   "cell_type": "code",
   "execution_count": 506,
   "metadata": {},
   "outputs": [],
   "source": [
    "for row in range(len(l3[2:-2])):\n",
    "#     print(row+2)\n",
    "    users.loc[row] = l3[row+2]"
   ]
  },
  {
   "cell_type": "code",
   "execution_count": 507,
   "metadata": {},
   "outputs": [
    {
     "data": {
      "text/html": [
       "<div>\n",
       "<style scoped>\n",
       "    .dataframe tbody tr th:only-of-type {\n",
       "        vertical-align: middle;\n",
       "    }\n",
       "\n",
       "    .dataframe tbody tr th {\n",
       "        vertical-align: top;\n",
       "    }\n",
       "\n",
       "    .dataframe thead th {\n",
       "        text-align: right;\n",
       "    }\n",
       "</style>\n",
       "<table border=\"1\" class=\"dataframe\">\n",
       "  <thead>\n",
       "    <tr style=\"text-align: right;\">\n",
       "      <th></th>\n",
       "      <th>id</th>\n",
       "      <th>role</th>\n",
       "    </tr>\n",
       "  </thead>\n",
       "  <tbody>\n",
       "    <tr>\n",
       "      <td>0</td>\n",
       "      <td>e28351f5-4ccb-4549-8647-d43f2b15e7b8</td>\n",
       "      <td>pupil</td>\n",
       "    </tr>\n",
       "    <tr>\n",
       "      <td>1</td>\n",
       "      <td>4df2832a-1d63-4453-9659-43993fc35996</td>\n",
       "      <td>tutor</td>\n",
       "    </tr>\n",
       "    <tr>\n",
       "      <td>2</td>\n",
       "      <td>bb1c0bc8-1212-452b-97a0-439d4a2169e2</td>\n",
       "      <td>pupil</td>\n",
       "    </tr>\n",
       "    <tr>\n",
       "      <td>3</td>\n",
       "      <td>63441abe-c4da-4275-ba26-66f7dbd65dde</td>\n",
       "      <td>tutor</td>\n",
       "    </tr>\n",
       "    <tr>\n",
       "      <td>4</td>\n",
       "      <td>a1323b68-c82c-429a-8e2c-65597e648c1a</td>\n",
       "      <td>tutor</td>\n",
       "    </tr>\n",
       "  </tbody>\n",
       "</table>\n",
       "</div>"
      ],
      "text/plain": [
       "                                      id    role\n",
       "0  e28351f5-4ccb-4549-8647-d43f2b15e7b8    pupil\n",
       "1  4df2832a-1d63-4453-9659-43993fc35996    tutor\n",
       "2  bb1c0bc8-1212-452b-97a0-439d4a2169e2    pupil\n",
       "3  63441abe-c4da-4275-ba26-66f7dbd65dde    tutor\n",
       "4  a1323b68-c82c-429a-8e2c-65597e648c1a    tutor"
      ]
     },
     "execution_count": 507,
     "metadata": {},
     "output_type": "execute_result"
    }
   ],
   "source": [
    "users.head()"
   ]
  },
  {
   "cell_type": "code",
   "execution_count": 508,
   "metadata": {},
   "outputs": [],
   "source": [
    "f = open(\"quality.txt\")\n",
    "l4 = [(row.strip(\"\\n\").strip(\" \")).split(\"|\") for row in f]"
   ]
  },
  {
   "cell_type": "code",
   "execution_count": 509,
   "metadata": {},
   "outputs": [
    {
     "data": {
      "text/html": [
       "<div>\n",
       "<style scoped>\n",
       "    .dataframe tbody tr th:only-of-type {\n",
       "        vertical-align: middle;\n",
       "    }\n",
       "\n",
       "    .dataframe tbody tr th {\n",
       "        vertical-align: top;\n",
       "    }\n",
       "\n",
       "    .dataframe thead th {\n",
       "        text-align: right;\n",
       "    }\n",
       "</style>\n",
       "<table border=\"1\" class=\"dataframe\">\n",
       "  <thead>\n",
       "    <tr style=\"text-align: right;\">\n",
       "      <th></th>\n",
       "      <th>lesson_id</th>\n",
       "      <th>tech_quality</th>\n",
       "    </tr>\n",
       "  </thead>\n",
       "  <tbody>\n",
       "  </tbody>\n",
       "</table>\n",
       "</div>"
      ],
      "text/plain": [
       "Empty DataFrame\n",
       "Columns: [lesson_id, tech_quality]\n",
       "Index: []"
      ]
     },
     "execution_count": 509,
     "metadata": {},
     "output_type": "execute_result"
    }
   ],
   "source": [
    "quality = pd.DataFrame(columns=['lesson_id', 'tech_quality'])\n",
    "quality"
   ]
  },
  {
   "cell_type": "code",
   "execution_count": 510,
   "metadata": {},
   "outputs": [],
   "source": [
    "for row in range(len(l4[2:-2])):\n",
    "#     print(row+2)\n",
    "    quality.loc[row] = l4[row+2]"
   ]
  },
  {
   "cell_type": "code",
   "execution_count": 511,
   "metadata": {
    "scrolled": false
   },
   "outputs": [
    {
     "data": {
      "text/html": [
       "<div>\n",
       "<style scoped>\n",
       "    .dataframe tbody tr th:only-of-type {\n",
       "        vertical-align: middle;\n",
       "    }\n",
       "\n",
       "    .dataframe tbody tr th {\n",
       "        vertical-align: top;\n",
       "    }\n",
       "\n",
       "    .dataframe thead th {\n",
       "        text-align: right;\n",
       "    }\n",
       "</style>\n",
       "<table border=\"1\" class=\"dataframe\">\n",
       "  <thead>\n",
       "    <tr style=\"text-align: right;\">\n",
       "      <th></th>\n",
       "      <th>lesson_id</th>\n",
       "      <th>tech_quality</th>\n",
       "    </tr>\n",
       "  </thead>\n",
       "  <tbody>\n",
       "    <tr>\n",
       "      <td>0</td>\n",
       "      <td>6d8e59d9-a7c8-4bb3-8ff3-99cd07acdf1a</td>\n",
       "      <td>5</td>\n",
       "    </tr>\n",
       "    <tr>\n",
       "      <td>1</td>\n",
       "      <td>62e1a078-33de-47c1-99d2-845b1daca56f</td>\n",
       "      <td>5</td>\n",
       "    </tr>\n",
       "    <tr>\n",
       "      <td>2</td>\n",
       "      <td>62e1a078-33de-47c1-99d2-845b1daca56f</td>\n",
       "      <td>5</td>\n",
       "    </tr>\n",
       "    <tr>\n",
       "      <td>3</td>\n",
       "      <td>00fc6685-f53a-49bb-b960-5e0042fd3852</td>\n",
       "      <td>5</td>\n",
       "    </tr>\n",
       "    <tr>\n",
       "      <td>4</td>\n",
       "      <td>00fc6685-f53a-49bb-b960-5e0042fd3852</td>\n",
       "      <td>5</td>\n",
       "    </tr>\n",
       "  </tbody>\n",
       "</table>\n",
       "</div>"
      ],
      "text/plain": [
       "                               lesson_id   tech_quality\n",
       "0  6d8e59d9-a7c8-4bb3-8ff3-99cd07acdf1a               5\n",
       "1  62e1a078-33de-47c1-99d2-845b1daca56f               5\n",
       "2  62e1a078-33de-47c1-99d2-845b1daca56f               5\n",
       "3  00fc6685-f53a-49bb-b960-5e0042fd3852               5\n",
       "4  00fc6685-f53a-49bb-b960-5e0042fd3852               5"
      ]
     },
     "execution_count": 511,
     "metadata": {},
     "output_type": "execute_result"
    }
   ],
   "source": [
    "quality.head()"
   ]
  },
  {
   "cell_type": "code",
   "execution_count": 512,
   "metadata": {},
   "outputs": [],
   "source": [
    "f = open(\"participants.txt\")\n",
    "l5 = [(row.strip(\"\\n\").strip(\" \")).split(\"|\") for row in f]"
   ]
  },
  {
   "cell_type": "code",
   "execution_count": 513,
   "metadata": {},
   "outputs": [
    {
     "data": {
      "text/html": [
       "<div>\n",
       "<style scoped>\n",
       "    .dataframe tbody tr th:only-of-type {\n",
       "        vertical-align: middle;\n",
       "    }\n",
       "\n",
       "    .dataframe tbody tr th {\n",
       "        vertical-align: top;\n",
       "    }\n",
       "\n",
       "    .dataframe thead th {\n",
       "        text-align: right;\n",
       "    }\n",
       "</style>\n",
       "<table border=\"1\" class=\"dataframe\">\n",
       "  <thead>\n",
       "    <tr style=\"text-align: right;\">\n",
       "      <th></th>\n",
       "      <th>event_id</th>\n",
       "      <th>user_id</th>\n",
       "    </tr>\n",
       "  </thead>\n",
       "  <tbody>\n",
       "  </tbody>\n",
       "</table>\n",
       "</div>"
      ],
      "text/plain": [
       "Empty DataFrame\n",
       "Columns: [event_id, user_id]\n",
       "Index: []"
      ]
     },
     "execution_count": 513,
     "metadata": {},
     "output_type": "execute_result"
    }
   ],
   "source": [
    "participants = pd.DataFrame(columns=['event_id', 'user_id'])\n",
    "participants"
   ]
  },
  {
   "cell_type": "code",
   "execution_count": 514,
   "metadata": {},
   "outputs": [],
   "source": [
    "for row in range(len(l5[2:-2])):\n",
    "#     print(row+2)\n",
    "    participants.loc[row] = l5[row+2]"
   ]
  },
  {
   "cell_type": "code",
   "execution_count": 515,
   "metadata": {
    "scrolled": false
   },
   "outputs": [
    {
     "data": {
      "text/html": [
       "<div>\n",
       "<style scoped>\n",
       "    .dataframe tbody tr th:only-of-type {\n",
       "        vertical-align: middle;\n",
       "    }\n",
       "\n",
       "    .dataframe tbody tr th {\n",
       "        vertical-align: top;\n",
       "    }\n",
       "\n",
       "    .dataframe thead th {\n",
       "        text-align: right;\n",
       "    }\n",
       "</style>\n",
       "<table border=\"1\" class=\"dataframe\">\n",
       "  <thead>\n",
       "    <tr style=\"text-align: right;\">\n",
       "      <th></th>\n",
       "      <th>event_id</th>\n",
       "      <th>user_id</th>\n",
       "    </tr>\n",
       "  </thead>\n",
       "  <tbody>\n",
       "    <tr>\n",
       "      <td>0</td>\n",
       "      <td>38114</td>\n",
       "      <td>e28351f5-4ccb-4549-8647-d43f2b15e7b8</td>\n",
       "    </tr>\n",
       "    <tr>\n",
       "      <td>1</td>\n",
       "      <td>38114</td>\n",
       "      <td>4df2832a-1d63-4453-9659-43993fc35996</td>\n",
       "    </tr>\n",
       "    <tr>\n",
       "      <td>2</td>\n",
       "      <td>51568</td>\n",
       "      <td>bb1c0bc8-1212-452b-97a0-439d4a2169e2</td>\n",
       "    </tr>\n",
       "    <tr>\n",
       "      <td>3</td>\n",
       "      <td>51568</td>\n",
       "      <td>63441abe-c4da-4275-ba26-66f7dbd65dde</td>\n",
       "    </tr>\n",
       "    <tr>\n",
       "      <td>4</td>\n",
       "      <td>52790</td>\n",
       "      <td>a1323b68-c82c-429a-8e2c-65597e648c1a</td>\n",
       "    </tr>\n",
       "  </tbody>\n",
       "</table>\n",
       "</div>"
      ],
      "text/plain": [
       "  event_id                                user_id\n",
       "0   38114    e28351f5-4ccb-4549-8647-d43f2b15e7b8\n",
       "1   38114    4df2832a-1d63-4453-9659-43993fc35996\n",
       "2   51568    bb1c0bc8-1212-452b-97a0-439d4a2169e2\n",
       "3   51568    63441abe-c4da-4275-ba26-66f7dbd65dde\n",
       "4   52790    a1323b68-c82c-429a-8e2c-65597e648c1a"
      ]
     },
     "execution_count": 515,
     "metadata": {},
     "output_type": "execute_result"
    }
   ],
   "source": [
    "participants.head()"
   ]
  },
  {
   "cell_type": "markdown",
   "metadata": {},
   "source": [
    "Для решения задачки нужно сделать следующее:\n",
    "1. Найти все уроки по физике (subject=phys)."
   ]
  },
  {
   "cell_type": "code",
   "execution_count": 516,
   "metadata": {
    "scrolled": true
   },
   "outputs": [
    {
     "data": {
      "text/html": [
       "<div>\n",
       "<style scoped>\n",
       "    .dataframe tbody tr th:only-of-type {\n",
       "        vertical-align: middle;\n",
       "    }\n",
       "\n",
       "    .dataframe tbody tr th {\n",
       "        vertical-align: top;\n",
       "    }\n",
       "\n",
       "    .dataframe thead th {\n",
       "        text-align: right;\n",
       "    }\n",
       "</style>\n",
       "<table border=\"1\" class=\"dataframe\">\n",
       "  <thead>\n",
       "    <tr style=\"text-align: right;\">\n",
       "      <th></th>\n",
       "      <th>id</th>\n",
       "      <th>event_id</th>\n",
       "      <th>subject</th>\n",
       "      <th>scheduled_time</th>\n",
       "    </tr>\n",
       "  </thead>\n",
       "  <tbody>\n",
       "    <tr>\n",
       "      <td>0</td>\n",
       "      <td>1e7bb408-cfef-4a9f-8328-351c9483a64c</td>\n",
       "      <td>38114</td>\n",
       "      <td>phys</td>\n",
       "      <td>2020-01-19 12:00:00</td>\n",
       "    </tr>\n",
       "    <tr>\n",
       "      <td>1</td>\n",
       "      <td>6d8e59d9-a7c8-4bb3-8ff3-99cd07acdf1a</td>\n",
       "      <td>51568</td>\n",
       "      <td>it</td>\n",
       "      <td>2020-01-19 13:00:00</td>\n",
       "    </tr>\n",
       "    <tr>\n",
       "      <td>2</td>\n",
       "      <td>62e1a078-33de-47c1-99d2-845b1daca56f</td>\n",
       "      <td>52790</td>\n",
       "      <td>hist</td>\n",
       "      <td>2020-01-19 13:00:00</td>\n",
       "    </tr>\n",
       "    <tr>\n",
       "      <td>3</td>\n",
       "      <td>00fc6685-f53a-49bb-b960-5e0042fd3852</td>\n",
       "      <td>51341</td>\n",
       "      <td>phys</td>\n",
       "      <td>2020-01-17 12:00:00</td>\n",
       "    </tr>\n",
       "    <tr>\n",
       "      <td>4</td>\n",
       "      <td>4cadf623-82e6-422f-a342-acf978302fb2</td>\n",
       "      <td>55048</td>\n",
       "      <td>phys</td>\n",
       "      <td>2020-01-19 14:00:00</td>\n",
       "    </tr>\n",
       "  </tbody>\n",
       "</table>\n",
       "</div>"
      ],
      "text/plain": [
       "                                      id    event_id    subject  \\\n",
       "0  1e7bb408-cfef-4a9f-8328-351c9483a64c       38114    phys       \n",
       "1  6d8e59d9-a7c8-4bb3-8ff3-99cd07acdf1a       51568    it         \n",
       "2  62e1a078-33de-47c1-99d2-845b1daca56f       52790    hist       \n",
       "3  00fc6685-f53a-49bb-b960-5e0042fd3852       51341    phys       \n",
       "4  4cadf623-82e6-422f-a342-acf978302fb2       55048    phys       \n",
       "\n",
       "         scheduled_time  \n",
       "0   2020-01-19 12:00:00  \n",
       "1   2020-01-19 13:00:00  \n",
       "2   2020-01-19 13:00:00  \n",
       "3   2020-01-17 12:00:00  \n",
       "4   2020-01-19 14:00:00  "
      ]
     },
     "execution_count": 516,
     "metadata": {},
     "output_type": "execute_result"
    }
   ],
   "source": [
    "lessons.head()"
   ]
  },
  {
   "cell_type": "code",
   "execution_count": 517,
   "metadata": {},
   "outputs": [],
   "source": [
    "new_s = [el.strip(\" \") for el in lessons[\"subject\"]]"
   ]
  },
  {
   "cell_type": "code",
   "execution_count": 518,
   "metadata": {},
   "outputs": [],
   "source": [
    "lessons[\"subject\"] = new_s"
   ]
  },
  {
   "cell_type": "code",
   "execution_count": 520,
   "metadata": {
    "scrolled": false
   },
   "outputs": [
    {
     "data": {
      "text/html": [
       "<div>\n",
       "<style scoped>\n",
       "    .dataframe tbody tr th:only-of-type {\n",
       "        vertical-align: middle;\n",
       "    }\n",
       "\n",
       "    .dataframe tbody tr th {\n",
       "        vertical-align: top;\n",
       "    }\n",
       "\n",
       "    .dataframe thead th {\n",
       "        text-align: right;\n",
       "    }\n",
       "</style>\n",
       "<table border=\"1\" class=\"dataframe\">\n",
       "  <thead>\n",
       "    <tr style=\"text-align: right;\">\n",
       "      <th></th>\n",
       "      <th>id</th>\n",
       "      <th>event_id</th>\n",
       "      <th>subject</th>\n",
       "      <th>scheduled_time</th>\n",
       "    </tr>\n",
       "  </thead>\n",
       "  <tbody>\n",
       "    <tr>\n",
       "      <td>0</td>\n",
       "      <td>1e7bb408-cfef-4a9f-8328-351c9483a64c</td>\n",
       "      <td>38114</td>\n",
       "      <td>phys</td>\n",
       "      <td>2020-01-19 12:00:00</td>\n",
       "    </tr>\n",
       "    <tr>\n",
       "      <td>3</td>\n",
       "      <td>00fc6685-f53a-49bb-b960-5e0042fd3852</td>\n",
       "      <td>51341</td>\n",
       "      <td>phys</td>\n",
       "      <td>2020-01-17 12:00:00</td>\n",
       "    </tr>\n",
       "    <tr>\n",
       "      <td>4</td>\n",
       "      <td>4cadf623-82e6-422f-a342-acf978302fb2</td>\n",
       "      <td>55048</td>\n",
       "      <td>phys</td>\n",
       "      <td>2020-01-19 14:00:00</td>\n",
       "    </tr>\n",
       "    <tr>\n",
       "      <td>6</td>\n",
       "      <td>e597a79a-3f68-4d15-bc77-c7000bcf8e52</td>\n",
       "      <td>53026</td>\n",
       "      <td>phys</td>\n",
       "      <td>2020-01-19 15:00:00</td>\n",
       "    </tr>\n",
       "    <tr>\n",
       "      <td>8</td>\n",
       "      <td>ea6f0bf3-bcfc-4555-9b16-cc2cfe722e17</td>\n",
       "      <td>51645</td>\n",
       "      <td>phys</td>\n",
       "      <td>2020-01-19 14:00:00</td>\n",
       "    </tr>\n",
       "  </tbody>\n",
       "</table>\n",
       "</div>"
      ],
      "text/plain": [
       "                                      id    event_id subject  \\\n",
       "0  1e7bb408-cfef-4a9f-8328-351c9483a64c       38114     phys   \n",
       "3  00fc6685-f53a-49bb-b960-5e0042fd3852       51341     phys   \n",
       "4  4cadf623-82e6-422f-a342-acf978302fb2       55048     phys   \n",
       "6  e597a79a-3f68-4d15-bc77-c7000bcf8e52       53026     phys   \n",
       "8  ea6f0bf3-bcfc-4555-9b16-cc2cfe722e17       51645     phys   \n",
       "\n",
       "         scheduled_time  \n",
       "0   2020-01-19 12:00:00  \n",
       "3   2020-01-17 12:00:00  \n",
       "4   2020-01-19 14:00:00  \n",
       "6   2020-01-19 15:00:00  \n",
       "8   2020-01-19 14:00:00  "
      ]
     },
     "execution_count": 520,
     "metadata": {},
     "output_type": "execute_result"
    }
   ],
   "source": [
    "phys = lessons[lessons[\"subject\"] == \"phys\"]\n",
    "phys.head()"
   ]
  },
  {
   "cell_type": "code",
   "execution_count": 521,
   "metadata": {
    "scrolled": true
   },
   "outputs": [],
   "source": [
    "# т.к время нам не понадобится, оставим только число\n",
    "phys_time = [i.split(\" \")[1] for i in phys[\"scheduled_time\"]]"
   ]
  },
  {
   "cell_type": "code",
   "execution_count": 522,
   "metadata": {
    "scrolled": true
   },
   "outputs": [
    {
     "name": "stderr",
     "output_type": "stream",
     "text": [
      "C:\\Users\\Polina\\Anaconda3\\lib\\site-packages\\ipykernel_launcher.py:1: SettingWithCopyWarning: \n",
      "A value is trying to be set on a copy of a slice from a DataFrame.\n",
      "Try using .loc[row_indexer,col_indexer] = value instead\n",
      "\n",
      "See the caveats in the documentation: http://pandas.pydata.org/pandas-docs/stable/user_guide/indexing.html#returning-a-view-versus-a-copy\n",
      "  \"\"\"Entry point for launching an IPython kernel.\n"
     ]
    },
    {
     "data": {
      "text/html": [
       "<div>\n",
       "<style scoped>\n",
       "    .dataframe tbody tr th:only-of-type {\n",
       "        vertical-align: middle;\n",
       "    }\n",
       "\n",
       "    .dataframe tbody tr th {\n",
       "        vertical-align: top;\n",
       "    }\n",
       "\n",
       "    .dataframe thead th {\n",
       "        text-align: right;\n",
       "    }\n",
       "</style>\n",
       "<table border=\"1\" class=\"dataframe\">\n",
       "  <thead>\n",
       "    <tr style=\"text-align: right;\">\n",
       "      <th></th>\n",
       "      <th>id</th>\n",
       "      <th>event_id</th>\n",
       "      <th>subject</th>\n",
       "      <th>scheduled_time</th>\n",
       "    </tr>\n",
       "  </thead>\n",
       "  <tbody>\n",
       "    <tr>\n",
       "      <td>0</td>\n",
       "      <td>1e7bb408-cfef-4a9f-8328-351c9483a64c</td>\n",
       "      <td>38114</td>\n",
       "      <td>phys</td>\n",
       "      <td>2020-01-19</td>\n",
       "    </tr>\n",
       "    <tr>\n",
       "      <td>3</td>\n",
       "      <td>00fc6685-f53a-49bb-b960-5e0042fd3852</td>\n",
       "      <td>51341</td>\n",
       "      <td>phys</td>\n",
       "      <td>2020-01-17</td>\n",
       "    </tr>\n",
       "    <tr>\n",
       "      <td>4</td>\n",
       "      <td>4cadf623-82e6-422f-a342-acf978302fb2</td>\n",
       "      <td>55048</td>\n",
       "      <td>phys</td>\n",
       "      <td>2020-01-19</td>\n",
       "    </tr>\n",
       "    <tr>\n",
       "      <td>6</td>\n",
       "      <td>e597a79a-3f68-4d15-bc77-c7000bcf8e52</td>\n",
       "      <td>53026</td>\n",
       "      <td>phys</td>\n",
       "      <td>2020-01-19</td>\n",
       "    </tr>\n",
       "    <tr>\n",
       "      <td>8</td>\n",
       "      <td>ea6f0bf3-bcfc-4555-9b16-cc2cfe722e17</td>\n",
       "      <td>51645</td>\n",
       "      <td>phys</td>\n",
       "      <td>2020-01-19</td>\n",
       "    </tr>\n",
       "    <tr>\n",
       "      <td>...</td>\n",
       "      <td>...</td>\n",
       "      <td>...</td>\n",
       "      <td>...</td>\n",
       "      <td>...</td>\n",
       "    </tr>\n",
       "    <tr>\n",
       "      <td>366</td>\n",
       "      <td>e90f529b-1061-4efd-9bba-f73ecee2ef27</td>\n",
       "      <td>55490</td>\n",
       "      <td>phys</td>\n",
       "      <td>2020-01-19</td>\n",
       "    </tr>\n",
       "    <tr>\n",
       "      <td>367</td>\n",
       "      <td>f0002160-e57e-4e90-ac7e-c8fcdbbae26f</td>\n",
       "      <td>41963</td>\n",
       "      <td>phys</td>\n",
       "      <td>2020-01-19</td>\n",
       "    </tr>\n",
       "    <tr>\n",
       "      <td>368</td>\n",
       "      <td>8a1bac54-c5c6-47c9-8fdb-36d01384eaae</td>\n",
       "      <td>55881</td>\n",
       "      <td>phys</td>\n",
       "      <td>2020-01-19</td>\n",
       "    </tr>\n",
       "    <tr>\n",
       "      <td>369</td>\n",
       "      <td>457accf4-bd99-4b9d-b540-ef200e65afbd</td>\n",
       "      <td>49007</td>\n",
       "      <td>phys</td>\n",
       "      <td>2020-01-19</td>\n",
       "    </tr>\n",
       "    <tr>\n",
       "      <td>371</td>\n",
       "      <td>403707fd-b110-4216-b678-6dbc92eb6fad</td>\n",
       "      <td>41964</td>\n",
       "      <td>phys</td>\n",
       "      <td>2020-01-19</td>\n",
       "    </tr>\n",
       "  </tbody>\n",
       "</table>\n",
       "<p>184 rows × 4 columns</p>\n",
       "</div>"
      ],
      "text/plain": [
       "                                        id    event_id subject scheduled_time\n",
       "0    1e7bb408-cfef-4a9f-8328-351c9483a64c       38114     phys     2020-01-19\n",
       "3    00fc6685-f53a-49bb-b960-5e0042fd3852       51341     phys     2020-01-17\n",
       "4    4cadf623-82e6-422f-a342-acf978302fb2       55048     phys     2020-01-19\n",
       "6    e597a79a-3f68-4d15-bc77-c7000bcf8e52       53026     phys     2020-01-19\n",
       "8    ea6f0bf3-bcfc-4555-9b16-cc2cfe722e17       51645     phys     2020-01-19\n",
       "..                                     ...         ...     ...            ...\n",
       "366  e90f529b-1061-4efd-9bba-f73ecee2ef27       55490     phys     2020-01-19\n",
       "367  f0002160-e57e-4e90-ac7e-c8fcdbbae26f       41963     phys     2020-01-19\n",
       "368  8a1bac54-c5c6-47c9-8fdb-36d01384eaae       55881     phys     2020-01-19\n",
       "369  457accf4-bd99-4b9d-b540-ef200e65afbd       49007     phys     2020-01-19\n",
       "371  403707fd-b110-4216-b678-6dbc92eb6fad       41964     phys     2020-01-19\n",
       "\n",
       "[184 rows x 4 columns]"
      ]
     },
     "execution_count": 522,
     "metadata": {},
     "output_type": "execute_result"
    }
   ],
   "source": [
    "phys[\"scheduled_time\"] = phys_time\n",
    "phys"
   ]
  },
  {
   "cell_type": "code",
   "execution_count": 523,
   "metadata": {
    "scrolled": true
   },
   "outputs": [
    {
     "name": "stderr",
     "output_type": "stream",
     "text": [
      "C:\\Users\\Polina\\Anaconda3\\lib\\site-packages\\ipykernel_launcher.py:2: SettingWithCopyWarning: \n",
      "A value is trying to be set on a copy of a slice from a DataFrame.\n",
      "Try using .loc[row_indexer,col_indexer] = value instead\n",
      "\n",
      "See the caveats in the documentation: http://pandas.pydata.org/pandas-docs/stable/user_guide/indexing.html#returning-a-view-versus-a-copy\n",
      "  \n"
     ]
    },
    {
     "data": {
      "text/html": [
       "<div>\n",
       "<style scoped>\n",
       "    .dataframe tbody tr th:only-of-type {\n",
       "        vertical-align: middle;\n",
       "    }\n",
       "\n",
       "    .dataframe tbody tr th {\n",
       "        vertical-align: top;\n",
       "    }\n",
       "\n",
       "    .dataframe thead th {\n",
       "        text-align: right;\n",
       "    }\n",
       "</style>\n",
       "<table border=\"1\" class=\"dataframe\">\n",
       "  <thead>\n",
       "    <tr style=\"text-align: right;\">\n",
       "      <th></th>\n",
       "      <th>id</th>\n",
       "      <th>event_id</th>\n",
       "      <th>subject</th>\n",
       "      <th>scheduled_time</th>\n",
       "    </tr>\n",
       "  </thead>\n",
       "  <tbody>\n",
       "    <tr>\n",
       "      <td>0</td>\n",
       "      <td>1e7bb408-cfef-4a9f-8328-351c9483a64c</td>\n",
       "      <td>38114</td>\n",
       "      <td>phys</td>\n",
       "      <td>2020-01-19</td>\n",
       "    </tr>\n",
       "    <tr>\n",
       "      <td>3</td>\n",
       "      <td>00fc6685-f53a-49bb-b960-5e0042fd3852</td>\n",
       "      <td>51341</td>\n",
       "      <td>phys</td>\n",
       "      <td>2020-01-17</td>\n",
       "    </tr>\n",
       "    <tr>\n",
       "      <td>4</td>\n",
       "      <td>4cadf623-82e6-422f-a342-acf978302fb2</td>\n",
       "      <td>55048</td>\n",
       "      <td>phys</td>\n",
       "      <td>2020-01-19</td>\n",
       "    </tr>\n",
       "    <tr>\n",
       "      <td>6</td>\n",
       "      <td>e597a79a-3f68-4d15-bc77-c7000bcf8e52</td>\n",
       "      <td>53026</td>\n",
       "      <td>phys</td>\n",
       "      <td>2020-01-19</td>\n",
       "    </tr>\n",
       "    <tr>\n",
       "      <td>8</td>\n",
       "      <td>ea6f0bf3-bcfc-4555-9b16-cc2cfe722e17</td>\n",
       "      <td>51645</td>\n",
       "      <td>phys</td>\n",
       "      <td>2020-01-19</td>\n",
       "    </tr>\n",
       "  </tbody>\n",
       "</table>\n",
       "</div>"
      ],
      "text/plain": [
       "                                      id event_id subject scheduled_time\n",
       "0  1e7bb408-cfef-4a9f-8328-351c9483a64c     38114    phys     2020-01-19\n",
       "3  00fc6685-f53a-49bb-b960-5e0042fd3852     51341    phys     2020-01-17\n",
       "4  4cadf623-82e6-422f-a342-acf978302fb2     55048    phys     2020-01-19\n",
       "6  e597a79a-3f68-4d15-bc77-c7000bcf8e52     53026    phys     2020-01-19\n",
       "8  ea6f0bf3-bcfc-4555-9b16-cc2cfe722e17     51645    phys     2020-01-19"
      ]
     },
     "execution_count": 523,
     "metadata": {},
     "output_type": "execute_result"
    }
   ],
   "source": [
    "phys_e = [i.strip(\" \") for i in phys[\"event_id\"]]\n",
    "phys[\"event_id\"] = phys_e\n",
    "phys.head()"
   ]
  },
  {
   "cell_type": "markdown",
   "metadata": {},
   "source": [
    "2. В каждый день (начало и конец дня считается по московскому времени, то есть UTC+3:00) для каждого репетитора посчитать среднюю арифметическую оценку за его уроки (учитывать только уроки из п. 1). То есть, если учитель проводил в этот день три урока по физике, один из них он оценил на 3, а ученик оценил его на 4, второму уроку оценку поставил только ученик, и эта оценка 5, а третий урок вообще никто не оценил, то средняя арифметическая оценка учителя за уроки = (3 + 4 + 5) / 3 = 4."
   ]
  },
  {
   "cell_type": "code",
   "execution_count": 524,
   "metadata": {},
   "outputs": [
    {
     "data": {
      "text/html": [
       "<div>\n",
       "<style scoped>\n",
       "    .dataframe tbody tr th:only-of-type {\n",
       "        vertical-align: middle;\n",
       "    }\n",
       "\n",
       "    .dataframe tbody tr th {\n",
       "        vertical-align: top;\n",
       "    }\n",
       "\n",
       "    .dataframe thead th {\n",
       "        text-align: right;\n",
       "    }\n",
       "</style>\n",
       "<table border=\"1\" class=\"dataframe\">\n",
       "  <thead>\n",
       "    <tr style=\"text-align: right;\">\n",
       "      <th></th>\n",
       "      <th>event_id</th>\n",
       "      <th>user_id</th>\n",
       "    </tr>\n",
       "  </thead>\n",
       "  <tbody>\n",
       "    <tr>\n",
       "      <td>0</td>\n",
       "      <td>38114</td>\n",
       "      <td>e28351f5-4ccb-4549-8647-d43f2b15e7b8</td>\n",
       "    </tr>\n",
       "    <tr>\n",
       "      <td>1</td>\n",
       "      <td>38114</td>\n",
       "      <td>4df2832a-1d63-4453-9659-43993fc35996</td>\n",
       "    </tr>\n",
       "    <tr>\n",
       "      <td>2</td>\n",
       "      <td>51568</td>\n",
       "      <td>bb1c0bc8-1212-452b-97a0-439d4a2169e2</td>\n",
       "    </tr>\n",
       "    <tr>\n",
       "      <td>3</td>\n",
       "      <td>51568</td>\n",
       "      <td>63441abe-c4da-4275-ba26-66f7dbd65dde</td>\n",
       "    </tr>\n",
       "    <tr>\n",
       "      <td>4</td>\n",
       "      <td>52790</td>\n",
       "      <td>a1323b68-c82c-429a-8e2c-65597e648c1a</td>\n",
       "    </tr>\n",
       "  </tbody>\n",
       "</table>\n",
       "</div>"
      ],
      "text/plain": [
       "  event_id                                user_id\n",
       "0    38114   e28351f5-4ccb-4549-8647-d43f2b15e7b8\n",
       "1    38114   4df2832a-1d63-4453-9659-43993fc35996\n",
       "2    51568   bb1c0bc8-1212-452b-97a0-439d4a2169e2\n",
       "3    51568   63441abe-c4da-4275-ba26-66f7dbd65dde\n",
       "4    52790   a1323b68-c82c-429a-8e2c-65597e648c1a"
      ]
     },
     "execution_count": 524,
     "metadata": {},
     "output_type": "execute_result"
    }
   ],
   "source": [
    "participants_e = [i.strip(\" \") for i in participants[\"event_id\"]]\n",
    "participants[\"event_id\"] = participants_e\n",
    "participants.head()"
   ]
  },
  {
   "cell_type": "code",
   "execution_count": 525,
   "metadata": {
    "scrolled": true
   },
   "outputs": [
    {
     "data": {
      "text/html": [
       "<div>\n",
       "<style scoped>\n",
       "    .dataframe tbody tr th:only-of-type {\n",
       "        vertical-align: middle;\n",
       "    }\n",
       "\n",
       "    .dataframe tbody tr th {\n",
       "        vertical-align: top;\n",
       "    }\n",
       "\n",
       "    .dataframe thead th {\n",
       "        text-align: right;\n",
       "    }\n",
       "</style>\n",
       "<table border=\"1\" class=\"dataframe\">\n",
       "  <thead>\n",
       "    <tr style=\"text-align: right;\">\n",
       "      <th></th>\n",
       "      <th>event_id</th>\n",
       "      <th>user_id</th>\n",
       "    </tr>\n",
       "  </thead>\n",
       "  <tbody>\n",
       "    <tr>\n",
       "      <td>0</td>\n",
       "      <td>38114</td>\n",
       "      <td>e28351f5-4ccb-4549-8647-d43f2b15e7b8</td>\n",
       "    </tr>\n",
       "    <tr>\n",
       "      <td>1</td>\n",
       "      <td>38114</td>\n",
       "      <td>4df2832a-1d63-4453-9659-43993fc35996</td>\n",
       "    </tr>\n",
       "    <tr>\n",
       "      <td>213</td>\n",
       "      <td>38114</td>\n",
       "      <td>e28351f5-4ccb-4549-8647-d43f2b15e7b8</td>\n",
       "    </tr>\n",
       "    <tr>\n",
       "      <td>214</td>\n",
       "      <td>38114</td>\n",
       "      <td>4df2832a-1d63-4453-9659-43993fc35996</td>\n",
       "    </tr>\n",
       "  </tbody>\n",
       "</table>\n",
       "</div>"
      ],
      "text/plain": [
       "    event_id                                user_id\n",
       "0      38114   e28351f5-4ccb-4549-8647-d43f2b15e7b8\n",
       "1      38114   4df2832a-1d63-4453-9659-43993fc35996\n",
       "213    38114   e28351f5-4ccb-4549-8647-d43f2b15e7b8\n",
       "214    38114   4df2832a-1d63-4453-9659-43993fc35996"
      ]
     },
     "execution_count": 525,
     "metadata": {},
     "output_type": "execute_result"
    }
   ],
   "source": [
    "participants[participants[\"event_id\"] == \"38114\"]"
   ]
  },
  {
   "cell_type": "code",
   "execution_count": 526,
   "metadata": {},
   "outputs": [
    {
     "data": {
      "text/html": [
       "<div>\n",
       "<style scoped>\n",
       "    .dataframe tbody tr th:only-of-type {\n",
       "        vertical-align: middle;\n",
       "    }\n",
       "\n",
       "    .dataframe tbody tr th {\n",
       "        vertical-align: top;\n",
       "    }\n",
       "\n",
       "    .dataframe thead th {\n",
       "        text-align: right;\n",
       "    }\n",
       "</style>\n",
       "<table border=\"1\" class=\"dataframe\">\n",
       "  <thead>\n",
       "    <tr style=\"text-align: right;\">\n",
       "      <th></th>\n",
       "      <th>id</th>\n",
       "      <th>event_id</th>\n",
       "      <th>subject</th>\n",
       "      <th>scheduled_time</th>\n",
       "    </tr>\n",
       "  </thead>\n",
       "  <tbody>\n",
       "    <tr>\n",
       "      <td>0</td>\n",
       "      <td>1e7bb408-cfef-4a9f-8328-351c9483a64c</td>\n",
       "      <td>38114</td>\n",
       "      <td>phys</td>\n",
       "      <td>2020-01-19</td>\n",
       "    </tr>\n",
       "    <tr>\n",
       "      <td>108</td>\n",
       "      <td>2e3b1173-7edb-4737-9500-a23d7b852518</td>\n",
       "      <td>38114</td>\n",
       "      <td>phys</td>\n",
       "      <td>2020-01-12</td>\n",
       "    </tr>\n",
       "  </tbody>\n",
       "</table>\n",
       "</div>"
      ],
      "text/plain": [
       "                                        id event_id subject scheduled_time\n",
       "0    1e7bb408-cfef-4a9f-8328-351c9483a64c     38114    phys     2020-01-19\n",
       "108  2e3b1173-7edb-4737-9500-a23d7b852518     38114    phys     2020-01-12"
      ]
     },
     "execution_count": 526,
     "metadata": {},
     "output_type": "execute_result"
    }
   ],
   "source": [
    "phys[phys[\"event_id\"] == \"38114\"]"
   ]
  },
  {
   "cell_type": "code",
   "execution_count": 527,
   "metadata": {
    "scrolled": true
   },
   "outputs": [],
   "source": [
    "merged = phys.merge(participants)"
   ]
  },
  {
   "cell_type": "code",
   "execution_count": 528,
   "metadata": {
    "scrolled": true
   },
   "outputs": [
    {
     "data": {
      "text/html": [
       "<div>\n",
       "<style scoped>\n",
       "    .dataframe tbody tr th:only-of-type {\n",
       "        vertical-align: middle;\n",
       "    }\n",
       "\n",
       "    .dataframe tbody tr th {\n",
       "        vertical-align: top;\n",
       "    }\n",
       "\n",
       "    .dataframe thead th {\n",
       "        text-align: right;\n",
       "    }\n",
       "</style>\n",
       "<table border=\"1\" class=\"dataframe\">\n",
       "  <thead>\n",
       "    <tr style=\"text-align: right;\">\n",
       "      <th></th>\n",
       "      <th>id</th>\n",
       "      <th>event_id</th>\n",
       "      <th>subject</th>\n",
       "      <th>scheduled_time</th>\n",
       "      <th>user_id</th>\n",
       "    </tr>\n",
       "  </thead>\n",
       "  <tbody>\n",
       "    <tr>\n",
       "      <td>0</td>\n",
       "      <td>1e7bb408-cfef-4a9f-8328-351c9483a64c</td>\n",
       "      <td>38114</td>\n",
       "      <td>phys</td>\n",
       "      <td>2020-01-19</td>\n",
       "      <td>e28351f5-4ccb-4549-8647-d43f2b15e7b8</td>\n",
       "    </tr>\n",
       "    <tr>\n",
       "      <td>1</td>\n",
       "      <td>1e7bb408-cfef-4a9f-8328-351c9483a64c</td>\n",
       "      <td>38114</td>\n",
       "      <td>phys</td>\n",
       "      <td>2020-01-19</td>\n",
       "      <td>4df2832a-1d63-4453-9659-43993fc35996</td>\n",
       "    </tr>\n",
       "    <tr>\n",
       "      <td>2</td>\n",
       "      <td>1e7bb408-cfef-4a9f-8328-351c9483a64c</td>\n",
       "      <td>38114</td>\n",
       "      <td>phys</td>\n",
       "      <td>2020-01-19</td>\n",
       "      <td>e28351f5-4ccb-4549-8647-d43f2b15e7b8</td>\n",
       "    </tr>\n",
       "    <tr>\n",
       "      <td>3</td>\n",
       "      <td>1e7bb408-cfef-4a9f-8328-351c9483a64c</td>\n",
       "      <td>38114</td>\n",
       "      <td>phys</td>\n",
       "      <td>2020-01-19</td>\n",
       "      <td>4df2832a-1d63-4453-9659-43993fc35996</td>\n",
       "    </tr>\n",
       "    <tr>\n",
       "      <td>4</td>\n",
       "      <td>2e3b1173-7edb-4737-9500-a23d7b852518</td>\n",
       "      <td>38114</td>\n",
       "      <td>phys</td>\n",
       "      <td>2020-01-12</td>\n",
       "      <td>e28351f5-4ccb-4549-8647-d43f2b15e7b8</td>\n",
       "    </tr>\n",
       "    <tr>\n",
       "      <td>...</td>\n",
       "      <td>...</td>\n",
       "      <td>...</td>\n",
       "      <td>...</td>\n",
       "      <td>...</td>\n",
       "      <td>...</td>\n",
       "    </tr>\n",
       "    <tr>\n",
       "      <td>482</td>\n",
       "      <td>459ed706-9310-477f-9f51-7a290b28b6a8</td>\n",
       "      <td>53917</td>\n",
       "      <td>phys</td>\n",
       "      <td>2020-01-20</td>\n",
       "      <td>9fb1e9b4-9765-486f-ac51-4444213e39ca</td>\n",
       "    </tr>\n",
       "    <tr>\n",
       "      <td>483</td>\n",
       "      <td>e90f529b-1061-4efd-9bba-f73ecee2ef27</td>\n",
       "      <td>55490</td>\n",
       "      <td>phys</td>\n",
       "      <td>2020-01-19</td>\n",
       "      <td>43efce48-94b2-4412-857f-223d45969008</td>\n",
       "    </tr>\n",
       "    <tr>\n",
       "      <td>484</td>\n",
       "      <td>e90f529b-1061-4efd-9bba-f73ecee2ef27</td>\n",
       "      <td>55490</td>\n",
       "      <td>phys</td>\n",
       "      <td>2020-01-19</td>\n",
       "      <td>b323a494-40c0-4522-8d63-4d4d591a1def</td>\n",
       "    </tr>\n",
       "    <tr>\n",
       "      <td>485</td>\n",
       "      <td>8a1bac54-c5c6-47c9-8fdb-36d01384eaae</td>\n",
       "      <td>55881</td>\n",
       "      <td>phys</td>\n",
       "      <td>2020-01-19</td>\n",
       "      <td>c6718d0e-976c-4d6c-b0e0-32c770776567</td>\n",
       "    </tr>\n",
       "    <tr>\n",
       "      <td>486</td>\n",
       "      <td>8a1bac54-c5c6-47c9-8fdb-36d01384eaae</td>\n",
       "      <td>55881</td>\n",
       "      <td>phys</td>\n",
       "      <td>2020-01-19</td>\n",
       "      <td>3c94e328-9fb6-44d8-baa8-46a81e214ceb</td>\n",
       "    </tr>\n",
       "  </tbody>\n",
       "</table>\n",
       "<p>487 rows × 5 columns</p>\n",
       "</div>"
      ],
      "text/plain": [
       "                                        id event_id subject scheduled_time  \\\n",
       "0    1e7bb408-cfef-4a9f-8328-351c9483a64c     38114    phys     2020-01-19   \n",
       "1    1e7bb408-cfef-4a9f-8328-351c9483a64c     38114    phys     2020-01-19   \n",
       "2    1e7bb408-cfef-4a9f-8328-351c9483a64c     38114    phys     2020-01-19   \n",
       "3    1e7bb408-cfef-4a9f-8328-351c9483a64c     38114    phys     2020-01-19   \n",
       "4    2e3b1173-7edb-4737-9500-a23d7b852518     38114    phys     2020-01-12   \n",
       "..                                     ...      ...     ...            ...   \n",
       "482  459ed706-9310-477f-9f51-7a290b28b6a8     53917    phys     2020-01-20   \n",
       "483  e90f529b-1061-4efd-9bba-f73ecee2ef27     55490    phys     2020-01-19   \n",
       "484  e90f529b-1061-4efd-9bba-f73ecee2ef27     55490    phys     2020-01-19   \n",
       "485  8a1bac54-c5c6-47c9-8fdb-36d01384eaae     55881    phys     2020-01-19   \n",
       "486  8a1bac54-c5c6-47c9-8fdb-36d01384eaae     55881    phys     2020-01-19   \n",
       "\n",
       "                                   user_id  \n",
       "0     e28351f5-4ccb-4549-8647-d43f2b15e7b8  \n",
       "1     4df2832a-1d63-4453-9659-43993fc35996  \n",
       "2     e28351f5-4ccb-4549-8647-d43f2b15e7b8  \n",
       "3     4df2832a-1d63-4453-9659-43993fc35996  \n",
       "4     e28351f5-4ccb-4549-8647-d43f2b15e7b8  \n",
       "..                                     ...  \n",
       "482   9fb1e9b4-9765-486f-ac51-4444213e39ca  \n",
       "483   43efce48-94b2-4412-857f-223d45969008  \n",
       "484   b323a494-40c0-4522-8d63-4d4d591a1def  \n",
       "485   c6718d0e-976c-4d6c-b0e0-32c770776567  \n",
       "486   3c94e328-9fb6-44d8-baa8-46a81e214ceb  \n",
       "\n",
       "[487 rows x 5 columns]"
      ]
     },
     "execution_count": 528,
     "metadata": {},
     "output_type": "execute_result"
    }
   ],
   "source": [
    "merged"
   ]
  },
  {
   "cell_type": "code",
   "execution_count": 529,
   "metadata": {},
   "outputs": [],
   "source": [
    "merged2 = merged.merge(quality, left_on = \"id\", right_on = \"lesson_id\")"
   ]
  },
  {
   "cell_type": "code",
   "execution_count": 530,
   "metadata": {},
   "outputs": [
    {
     "data": {
      "text/html": [
       "<div>\n",
       "<style scoped>\n",
       "    .dataframe tbody tr th:only-of-type {\n",
       "        vertical-align: middle;\n",
       "    }\n",
       "\n",
       "    .dataframe tbody tr th {\n",
       "        vertical-align: top;\n",
       "    }\n",
       "\n",
       "    .dataframe thead th {\n",
       "        text-align: right;\n",
       "    }\n",
       "</style>\n",
       "<table border=\"1\" class=\"dataframe\">\n",
       "  <thead>\n",
       "    <tr style=\"text-align: right;\">\n",
       "      <th></th>\n",
       "      <th>id</th>\n",
       "      <th>event_id</th>\n",
       "      <th>subject</th>\n",
       "      <th>scheduled_time</th>\n",
       "      <th>user_id</th>\n",
       "      <th>lesson_id</th>\n",
       "      <th>tech_quality</th>\n",
       "    </tr>\n",
       "  </thead>\n",
       "  <tbody>\n",
       "    <tr>\n",
       "      <td>0</td>\n",
       "      <td>2e3b1173-7edb-4737-9500-a23d7b852518</td>\n",
       "      <td>38114</td>\n",
       "      <td>phys</td>\n",
       "      <td>2020-01-12</td>\n",
       "      <td>e28351f5-4ccb-4549-8647-d43f2b15e7b8</td>\n",
       "      <td>2e3b1173-7edb-4737-9500-a23d7b852518</td>\n",
       "      <td>5</td>\n",
       "    </tr>\n",
       "    <tr>\n",
       "      <td>1</td>\n",
       "      <td>2e3b1173-7edb-4737-9500-a23d7b852518</td>\n",
       "      <td>38114</td>\n",
       "      <td>phys</td>\n",
       "      <td>2020-01-12</td>\n",
       "      <td>4df2832a-1d63-4453-9659-43993fc35996</td>\n",
       "      <td>2e3b1173-7edb-4737-9500-a23d7b852518</td>\n",
       "      <td>5</td>\n",
       "    </tr>\n",
       "    <tr>\n",
       "      <td>2</td>\n",
       "      <td>2e3b1173-7edb-4737-9500-a23d7b852518</td>\n",
       "      <td>38114</td>\n",
       "      <td>phys</td>\n",
       "      <td>2020-01-12</td>\n",
       "      <td>e28351f5-4ccb-4549-8647-d43f2b15e7b8</td>\n",
       "      <td>2e3b1173-7edb-4737-9500-a23d7b852518</td>\n",
       "      <td>5</td>\n",
       "    </tr>\n",
       "    <tr>\n",
       "      <td>3</td>\n",
       "      <td>2e3b1173-7edb-4737-9500-a23d7b852518</td>\n",
       "      <td>38114</td>\n",
       "      <td>phys</td>\n",
       "      <td>2020-01-12</td>\n",
       "      <td>4df2832a-1d63-4453-9659-43993fc35996</td>\n",
       "      <td>2e3b1173-7edb-4737-9500-a23d7b852518</td>\n",
       "      <td>5</td>\n",
       "    </tr>\n",
       "    <tr>\n",
       "      <td>4</td>\n",
       "      <td>00fc6685-f53a-49bb-b960-5e0042fd3852</td>\n",
       "      <td>51341</td>\n",
       "      <td>phys</td>\n",
       "      <td>2020-01-17</td>\n",
       "      <td>4ab072ed-8a41-4ed6-9877-8f1d1fbb24d2</td>\n",
       "      <td>00fc6685-f53a-49bb-b960-5e0042fd3852</td>\n",
       "      <td>5</td>\n",
       "    </tr>\n",
       "    <tr>\n",
       "      <td>...</td>\n",
       "      <td>...</td>\n",
       "      <td>...</td>\n",
       "      <td>...</td>\n",
       "      <td>...</td>\n",
       "      <td>...</td>\n",
       "      <td>...</td>\n",
       "      <td>...</td>\n",
       "    </tr>\n",
       "    <tr>\n",
       "      <td>543</td>\n",
       "      <td>459ed706-9310-477f-9f51-7a290b28b6a8</td>\n",
       "      <td>53917</td>\n",
       "      <td>phys</td>\n",
       "      <td>2020-01-20</td>\n",
       "      <td>9fb1e9b4-9765-486f-ac51-4444213e39ca</td>\n",
       "      <td>459ed706-9310-477f-9f51-7a290b28b6a8</td>\n",
       "      <td>5</td>\n",
       "    </tr>\n",
       "    <tr>\n",
       "      <td>544</td>\n",
       "      <td>e90f529b-1061-4efd-9bba-f73ecee2ef27</td>\n",
       "      <td>55490</td>\n",
       "      <td>phys</td>\n",
       "      <td>2020-01-19</td>\n",
       "      <td>43efce48-94b2-4412-857f-223d45969008</td>\n",
       "      <td>e90f529b-1061-4efd-9bba-f73ecee2ef27</td>\n",
       "      <td>5</td>\n",
       "    </tr>\n",
       "    <tr>\n",
       "      <td>545</td>\n",
       "      <td>e90f529b-1061-4efd-9bba-f73ecee2ef27</td>\n",
       "      <td>55490</td>\n",
       "      <td>phys</td>\n",
       "      <td>2020-01-19</td>\n",
       "      <td>43efce48-94b2-4412-857f-223d45969008</td>\n",
       "      <td>e90f529b-1061-4efd-9bba-f73ecee2ef27</td>\n",
       "      <td>4</td>\n",
       "    </tr>\n",
       "    <tr>\n",
       "      <td>546</td>\n",
       "      <td>e90f529b-1061-4efd-9bba-f73ecee2ef27</td>\n",
       "      <td>55490</td>\n",
       "      <td>phys</td>\n",
       "      <td>2020-01-19</td>\n",
       "      <td>b323a494-40c0-4522-8d63-4d4d591a1def</td>\n",
       "      <td>e90f529b-1061-4efd-9bba-f73ecee2ef27</td>\n",
       "      <td>5</td>\n",
       "    </tr>\n",
       "    <tr>\n",
       "      <td>547</td>\n",
       "      <td>e90f529b-1061-4efd-9bba-f73ecee2ef27</td>\n",
       "      <td>55490</td>\n",
       "      <td>phys</td>\n",
       "      <td>2020-01-19</td>\n",
       "      <td>b323a494-40c0-4522-8d63-4d4d591a1def</td>\n",
       "      <td>e90f529b-1061-4efd-9bba-f73ecee2ef27</td>\n",
       "      <td>4</td>\n",
       "    </tr>\n",
       "  </tbody>\n",
       "</table>\n",
       "<p>548 rows × 7 columns</p>\n",
       "</div>"
      ],
      "text/plain": [
       "                                        id event_id subject scheduled_time  \\\n",
       "0    2e3b1173-7edb-4737-9500-a23d7b852518     38114    phys     2020-01-12   \n",
       "1    2e3b1173-7edb-4737-9500-a23d7b852518     38114    phys     2020-01-12   \n",
       "2    2e3b1173-7edb-4737-9500-a23d7b852518     38114    phys     2020-01-12   \n",
       "3    2e3b1173-7edb-4737-9500-a23d7b852518     38114    phys     2020-01-12   \n",
       "4    00fc6685-f53a-49bb-b960-5e0042fd3852     51341    phys     2020-01-17   \n",
       "..                                     ...      ...     ...            ...   \n",
       "543  459ed706-9310-477f-9f51-7a290b28b6a8     53917    phys     2020-01-20   \n",
       "544  e90f529b-1061-4efd-9bba-f73ecee2ef27     55490    phys     2020-01-19   \n",
       "545  e90f529b-1061-4efd-9bba-f73ecee2ef27     55490    phys     2020-01-19   \n",
       "546  e90f529b-1061-4efd-9bba-f73ecee2ef27     55490    phys     2020-01-19   \n",
       "547  e90f529b-1061-4efd-9bba-f73ecee2ef27     55490    phys     2020-01-19   \n",
       "\n",
       "                                   user_id  \\\n",
       "0     e28351f5-4ccb-4549-8647-d43f2b15e7b8   \n",
       "1     4df2832a-1d63-4453-9659-43993fc35996   \n",
       "2     e28351f5-4ccb-4549-8647-d43f2b15e7b8   \n",
       "3     4df2832a-1d63-4453-9659-43993fc35996   \n",
       "4     4ab072ed-8a41-4ed6-9877-8f1d1fbb24d2   \n",
       "..                                     ...   \n",
       "543   9fb1e9b4-9765-486f-ac51-4444213e39ca   \n",
       "544   43efce48-94b2-4412-857f-223d45969008   \n",
       "545   43efce48-94b2-4412-857f-223d45969008   \n",
       "546   b323a494-40c0-4522-8d63-4d4d591a1def   \n",
       "547   b323a494-40c0-4522-8d63-4d4d591a1def   \n",
       "\n",
       "                                 lesson_id   tech_quality  \n",
       "0    2e3b1173-7edb-4737-9500-a23d7b852518               5  \n",
       "1    2e3b1173-7edb-4737-9500-a23d7b852518               5  \n",
       "2    2e3b1173-7edb-4737-9500-a23d7b852518               5  \n",
       "3    2e3b1173-7edb-4737-9500-a23d7b852518               5  \n",
       "4    00fc6685-f53a-49bb-b960-5e0042fd3852               5  \n",
       "..                                     ...            ...  \n",
       "543  459ed706-9310-477f-9f51-7a290b28b6a8               5  \n",
       "544  e90f529b-1061-4efd-9bba-f73ecee2ef27               5  \n",
       "545  e90f529b-1061-4efd-9bba-f73ecee2ef27               4  \n",
       "546  e90f529b-1061-4efd-9bba-f73ecee2ef27               5  \n",
       "547  e90f529b-1061-4efd-9bba-f73ecee2ef27               4  \n",
       "\n",
       "[548 rows x 7 columns]"
      ]
     },
     "execution_count": 530,
     "metadata": {},
     "output_type": "execute_result"
    }
   ],
   "source": [
    "merged2"
   ]
  },
  {
   "cell_type": "code",
   "execution_count": 531,
   "metadata": {},
   "outputs": [],
   "source": [
    "merged2[\"tech_quality\"] = pd.to_numeric(merged2.tech_quality)"
   ]
  },
  {
   "cell_type": "code",
   "execution_count": 532,
   "metadata": {},
   "outputs": [],
   "source": [
    "merged_n = [i.strip() for i in merged2[\"user_id\"]]"
   ]
  },
  {
   "cell_type": "code",
   "execution_count": 533,
   "metadata": {},
   "outputs": [],
   "source": [
    "merged2[\"user_id\"] = merged_n"
   ]
  },
  {
   "cell_type": "code",
   "execution_count": 534,
   "metadata": {},
   "outputs": [],
   "source": [
    "users_s = [i.strip() for i in users[\"id\"]]"
   ]
  },
  {
   "cell_type": "code",
   "execution_count": 535,
   "metadata": {},
   "outputs": [],
   "source": [
    "users[\"id\"] = users_s"
   ]
  },
  {
   "cell_type": "code",
   "execution_count": 536,
   "metadata": {},
   "outputs": [],
   "source": [
    "merged3 = merged2.merge(users, left_on = \"user_id\", right_on = \"id\")"
   ]
  },
  {
   "cell_type": "code",
   "execution_count": 537,
   "metadata": {
    "scrolled": true
   },
   "outputs": [
    {
     "data": {
      "text/html": [
       "<div>\n",
       "<style scoped>\n",
       "    .dataframe tbody tr th:only-of-type {\n",
       "        vertical-align: middle;\n",
       "    }\n",
       "\n",
       "    .dataframe tbody tr th {\n",
       "        vertical-align: top;\n",
       "    }\n",
       "\n",
       "    .dataframe thead th {\n",
       "        text-align: right;\n",
       "    }\n",
       "</style>\n",
       "<table border=\"1\" class=\"dataframe\">\n",
       "  <thead>\n",
       "    <tr style=\"text-align: right;\">\n",
       "      <th></th>\n",
       "      <th>id_x</th>\n",
       "      <th>event_id</th>\n",
       "      <th>subject</th>\n",
       "      <th>scheduled_time</th>\n",
       "      <th>user_id</th>\n",
       "      <th>lesson_id</th>\n",
       "      <th>tech_quality</th>\n",
       "      <th>id_y</th>\n",
       "      <th>role</th>\n",
       "    </tr>\n",
       "  </thead>\n",
       "  <tbody>\n",
       "    <tr>\n",
       "      <td>0</td>\n",
       "      <td>2e3b1173-7edb-4737-9500-a23d7b852518</td>\n",
       "      <td>38114</td>\n",
       "      <td>phys</td>\n",
       "      <td>2020-01-12</td>\n",
       "      <td>e28351f5-4ccb-4549-8647-d43f2b15e7b8</td>\n",
       "      <td>2e3b1173-7edb-4737-9500-a23d7b852518</td>\n",
       "      <td>5.0</td>\n",
       "      <td>e28351f5-4ccb-4549-8647-d43f2b15e7b8</td>\n",
       "      <td>pupil</td>\n",
       "    </tr>\n",
       "    <tr>\n",
       "      <td>1</td>\n",
       "      <td>2e3b1173-7edb-4737-9500-a23d7b852518</td>\n",
       "      <td>38114</td>\n",
       "      <td>phys</td>\n",
       "      <td>2020-01-12</td>\n",
       "      <td>e28351f5-4ccb-4549-8647-d43f2b15e7b8</td>\n",
       "      <td>2e3b1173-7edb-4737-9500-a23d7b852518</td>\n",
       "      <td>5.0</td>\n",
       "      <td>e28351f5-4ccb-4549-8647-d43f2b15e7b8</td>\n",
       "      <td>pupil</td>\n",
       "    </tr>\n",
       "    <tr>\n",
       "      <td>2</td>\n",
       "      <td>2e3b1173-7edb-4737-9500-a23d7b852518</td>\n",
       "      <td>38114</td>\n",
       "      <td>phys</td>\n",
       "      <td>2020-01-12</td>\n",
       "      <td>e28351f5-4ccb-4549-8647-d43f2b15e7b8</td>\n",
       "      <td>2e3b1173-7edb-4737-9500-a23d7b852518</td>\n",
       "      <td>5.0</td>\n",
       "      <td>e28351f5-4ccb-4549-8647-d43f2b15e7b8</td>\n",
       "      <td>pupil</td>\n",
       "    </tr>\n",
       "    <tr>\n",
       "      <td>3</td>\n",
       "      <td>2e3b1173-7edb-4737-9500-a23d7b852518</td>\n",
       "      <td>38114</td>\n",
       "      <td>phys</td>\n",
       "      <td>2020-01-12</td>\n",
       "      <td>e28351f5-4ccb-4549-8647-d43f2b15e7b8</td>\n",
       "      <td>2e3b1173-7edb-4737-9500-a23d7b852518</td>\n",
       "      <td>5.0</td>\n",
       "      <td>e28351f5-4ccb-4549-8647-d43f2b15e7b8</td>\n",
       "      <td>pupil</td>\n",
       "    </tr>\n",
       "    <tr>\n",
       "      <td>4</td>\n",
       "      <td>2e3b1173-7edb-4737-9500-a23d7b852518</td>\n",
       "      <td>38114</td>\n",
       "      <td>phys</td>\n",
       "      <td>2020-01-12</td>\n",
       "      <td>4df2832a-1d63-4453-9659-43993fc35996</td>\n",
       "      <td>2e3b1173-7edb-4737-9500-a23d7b852518</td>\n",
       "      <td>5.0</td>\n",
       "      <td>4df2832a-1d63-4453-9659-43993fc35996</td>\n",
       "      <td>tutor</td>\n",
       "    </tr>\n",
       "    <tr>\n",
       "      <td>...</td>\n",
       "      <td>...</td>\n",
       "      <td>...</td>\n",
       "      <td>...</td>\n",
       "      <td>...</td>\n",
       "      <td>...</td>\n",
       "      <td>...</td>\n",
       "      <td>...</td>\n",
       "      <td>...</td>\n",
       "      <td>...</td>\n",
       "    </tr>\n",
       "    <tr>\n",
       "      <td>5837</td>\n",
       "      <td>2f3c2e0a-e188-420e-ae83-8673ea692d66</td>\n",
       "      <td>47780</td>\n",
       "      <td>phys</td>\n",
       "      <td>2020-01-19</td>\n",
       "      <td>7b913e7a-cfb4-4383-93c7-ddccbafc8850</td>\n",
       "      <td>2f3c2e0a-e188-420e-ae83-8673ea692d66</td>\n",
       "      <td>5.0</td>\n",
       "      <td>7b913e7a-cfb4-4383-93c7-ddccbafc8850</td>\n",
       "      <td>pupil</td>\n",
       "    </tr>\n",
       "    <tr>\n",
       "      <td>5838</td>\n",
       "      <td>459ed706-9310-477f-9f51-7a290b28b6a8</td>\n",
       "      <td>53917</td>\n",
       "      <td>phys</td>\n",
       "      <td>2020-01-20</td>\n",
       "      <td>9fb1e9b4-9765-486f-ac51-4444213e39ca</td>\n",
       "      <td>459ed706-9310-477f-9f51-7a290b28b6a8</td>\n",
       "      <td>3.0</td>\n",
       "      <td>9fb1e9b4-9765-486f-ac51-4444213e39ca</td>\n",
       "      <td>pupil</td>\n",
       "    </tr>\n",
       "    <tr>\n",
       "      <td>5839</td>\n",
       "      <td>459ed706-9310-477f-9f51-7a290b28b6a8</td>\n",
       "      <td>53917</td>\n",
       "      <td>phys</td>\n",
       "      <td>2020-01-20</td>\n",
       "      <td>9fb1e9b4-9765-486f-ac51-4444213e39ca</td>\n",
       "      <td>459ed706-9310-477f-9f51-7a290b28b6a8</td>\n",
       "      <td>5.0</td>\n",
       "      <td>9fb1e9b4-9765-486f-ac51-4444213e39ca</td>\n",
       "      <td>pupil</td>\n",
       "    </tr>\n",
       "    <tr>\n",
       "      <td>5840</td>\n",
       "      <td>e90f529b-1061-4efd-9bba-f73ecee2ef27</td>\n",
       "      <td>55490</td>\n",
       "      <td>phys</td>\n",
       "      <td>2020-01-19</td>\n",
       "      <td>b323a494-40c0-4522-8d63-4d4d591a1def</td>\n",
       "      <td>e90f529b-1061-4efd-9bba-f73ecee2ef27</td>\n",
       "      <td>5.0</td>\n",
       "      <td>b323a494-40c0-4522-8d63-4d4d591a1def</td>\n",
       "      <td>pupil</td>\n",
       "    </tr>\n",
       "    <tr>\n",
       "      <td>5841</td>\n",
       "      <td>e90f529b-1061-4efd-9bba-f73ecee2ef27</td>\n",
       "      <td>55490</td>\n",
       "      <td>phys</td>\n",
       "      <td>2020-01-19</td>\n",
       "      <td>b323a494-40c0-4522-8d63-4d4d591a1def</td>\n",
       "      <td>e90f529b-1061-4efd-9bba-f73ecee2ef27</td>\n",
       "      <td>4.0</td>\n",
       "      <td>b323a494-40c0-4522-8d63-4d4d591a1def</td>\n",
       "      <td>pupil</td>\n",
       "    </tr>\n",
       "  </tbody>\n",
       "</table>\n",
       "<p>5842 rows × 9 columns</p>\n",
       "</div>"
      ],
      "text/plain": [
       "                                       id_x event_id subject scheduled_time  \\\n",
       "0     2e3b1173-7edb-4737-9500-a23d7b852518     38114    phys     2020-01-12   \n",
       "1     2e3b1173-7edb-4737-9500-a23d7b852518     38114    phys     2020-01-12   \n",
       "2     2e3b1173-7edb-4737-9500-a23d7b852518     38114    phys     2020-01-12   \n",
       "3     2e3b1173-7edb-4737-9500-a23d7b852518     38114    phys     2020-01-12   \n",
       "4     2e3b1173-7edb-4737-9500-a23d7b852518     38114    phys     2020-01-12   \n",
       "...                                     ...      ...     ...            ...   \n",
       "5837  2f3c2e0a-e188-420e-ae83-8673ea692d66     47780    phys     2020-01-19   \n",
       "5838  459ed706-9310-477f-9f51-7a290b28b6a8     53917    phys     2020-01-20   \n",
       "5839  459ed706-9310-477f-9f51-7a290b28b6a8     53917    phys     2020-01-20   \n",
       "5840  e90f529b-1061-4efd-9bba-f73ecee2ef27     55490    phys     2020-01-19   \n",
       "5841  e90f529b-1061-4efd-9bba-f73ecee2ef27     55490    phys     2020-01-19   \n",
       "\n",
       "                                   user_id  \\\n",
       "0     e28351f5-4ccb-4549-8647-d43f2b15e7b8   \n",
       "1     e28351f5-4ccb-4549-8647-d43f2b15e7b8   \n",
       "2     e28351f5-4ccb-4549-8647-d43f2b15e7b8   \n",
       "3     e28351f5-4ccb-4549-8647-d43f2b15e7b8   \n",
       "4     4df2832a-1d63-4453-9659-43993fc35996   \n",
       "...                                    ...   \n",
       "5837  7b913e7a-cfb4-4383-93c7-ddccbafc8850   \n",
       "5838  9fb1e9b4-9765-486f-ac51-4444213e39ca   \n",
       "5839  9fb1e9b4-9765-486f-ac51-4444213e39ca   \n",
       "5840  b323a494-40c0-4522-8d63-4d4d591a1def   \n",
       "5841  b323a494-40c0-4522-8d63-4d4d591a1def   \n",
       "\n",
       "                                  lesson_id  tech_quality  \\\n",
       "0     2e3b1173-7edb-4737-9500-a23d7b852518            5.0   \n",
       "1     2e3b1173-7edb-4737-9500-a23d7b852518            5.0   \n",
       "2     2e3b1173-7edb-4737-9500-a23d7b852518            5.0   \n",
       "3     2e3b1173-7edb-4737-9500-a23d7b852518            5.0   \n",
       "4     2e3b1173-7edb-4737-9500-a23d7b852518            5.0   \n",
       "...                                     ...           ...   \n",
       "5837  2f3c2e0a-e188-420e-ae83-8673ea692d66            5.0   \n",
       "5838  459ed706-9310-477f-9f51-7a290b28b6a8            3.0   \n",
       "5839  459ed706-9310-477f-9f51-7a290b28b6a8            5.0   \n",
       "5840  e90f529b-1061-4efd-9bba-f73ecee2ef27            5.0   \n",
       "5841  e90f529b-1061-4efd-9bba-f73ecee2ef27            4.0   \n",
       "\n",
       "                                      id_y    role  \n",
       "0     e28351f5-4ccb-4549-8647-d43f2b15e7b8   pupil  \n",
       "1     e28351f5-4ccb-4549-8647-d43f2b15e7b8   pupil  \n",
       "2     e28351f5-4ccb-4549-8647-d43f2b15e7b8   pupil  \n",
       "3     e28351f5-4ccb-4549-8647-d43f2b15e7b8   pupil  \n",
       "4     4df2832a-1d63-4453-9659-43993fc35996   tutor  \n",
       "...                                    ...     ...  \n",
       "5837  7b913e7a-cfb4-4383-93c7-ddccbafc8850   pupil  \n",
       "5838  9fb1e9b4-9765-486f-ac51-4444213e39ca   pupil  \n",
       "5839  9fb1e9b4-9765-486f-ac51-4444213e39ca   pupil  \n",
       "5840  b323a494-40c0-4522-8d63-4d4d591a1def   pupil  \n",
       "5841  b323a494-40c0-4522-8d63-4d4d591a1def   pupil  \n",
       "\n",
       "[5842 rows x 9 columns]"
      ]
     },
     "execution_count": 537,
     "metadata": {},
     "output_type": "execute_result"
    }
   ],
   "source": [
    "merged3"
   ]
  },
  {
   "cell_type": "code",
   "execution_count": 538,
   "metadata": {},
   "outputs": [],
   "source": [
    "from numpy import * "
   ]
  },
  {
   "cell_type": "code",
   "execution_count": 539,
   "metadata": {
    "scrolled": false
   },
   "outputs": [],
   "source": [
    "# среднее по урокам\n",
    "final = merged3.groupby([\"id_x\", \"scheduled_time\", \"user_id\", \"role\"]).mean().reset_index()"
   ]
  },
  {
   "cell_type": "code",
   "execution_count": 540,
   "metadata": {},
   "outputs": [],
   "source": [
    "final_r = [i.strip() for i in final[\"role\"]]\n",
    "final[\"role\"] = final_r"
   ]
  },
  {
   "cell_type": "markdown",
   "metadata": {},
   "source": [
    "3. Найти учителя, который в этот день имеет самую низкую среднюю арифметическую оценку за уроки (среди всех учителей, проводивших уроки по физике в этот день).\n",
    "\n",
    "4. Вывести его в формате \"<день> <id учителя> <средняя арифметическая оценка>\". Оценку можно округлить с точностью до двух знаков после запятой. То есть как-то так:\n",
    "2020-01-11 73c9af08-8581-430c-a590-9888ab36deb3 3.67\n",
    "2020-01-12 909c2c8e-c054-4e9f-a51a-50bf5660f364 3.25\n",
    "...\n",
    "4. Учитывать нужно только тех учителей, за уроки по физике которых в этот день стоит хотя бы одна оценка. Если у нескольких учителей одна и та же самая оценка, можно вывести любого.\n",
    "5. Если есть необходимость, предварительно можно предобработать данные (сконвертировав их в csv или загрузив в базу данных) и работать уже с ними."
   ]
  },
  {
   "cell_type": "code",
   "execution_count": 541,
   "metadata": {},
   "outputs": [
    {
     "data": {
      "text/html": [
       "<div>\n",
       "<style scoped>\n",
       "    .dataframe tbody tr th:only-of-type {\n",
       "        vertical-align: middle;\n",
       "    }\n",
       "\n",
       "    .dataframe tbody tr th {\n",
       "        vertical-align: top;\n",
       "    }\n",
       "\n",
       "    .dataframe thead th {\n",
       "        text-align: right;\n",
       "    }\n",
       "</style>\n",
       "<table border=\"1\" class=\"dataframe\">\n",
       "  <thead>\n",
       "    <tr style=\"text-align: right;\">\n",
       "      <th></th>\n",
       "      <th>id_x</th>\n",
       "      <th>scheduled_time</th>\n",
       "      <th>user_id</th>\n",
       "      <th>role</th>\n",
       "      <th>tech_quality</th>\n",
       "    </tr>\n",
       "  </thead>\n",
       "  <tbody>\n",
       "    <tr>\n",
       "      <td>106</td>\n",
       "      <td>577ae94d-45c8-4804-9a50-40e91048d81d</td>\n",
       "      <td>2020-01-18</td>\n",
       "      <td>43efce48-94b2-4412-857f-223d45969008</td>\n",
       "      <td>tutor</td>\n",
       "      <td>2.0</td>\n",
       "    </tr>\n",
       "    <tr>\n",
       "      <td>126</td>\n",
       "      <td>69131767-f538-4305-ad4d-2f854f64e210</td>\n",
       "      <td>2020-01-11</td>\n",
       "      <td>8fe03f08-8581-430c-a590-9888ab36deb3</td>\n",
       "      <td>tutor</td>\n",
       "      <td>3.0</td>\n",
       "    </tr>\n",
       "    <tr>\n",
       "      <td>163</td>\n",
       "      <td>aedb6420-b5ad-4126-9590-83830b83245e</td>\n",
       "      <td>2020-01-14</td>\n",
       "      <td>c6718d0e-976c-4d6c-b0e0-32c770776567</td>\n",
       "      <td>tutor</td>\n",
       "      <td>4.0</td>\n",
       "    </tr>\n",
       "    <tr>\n",
       "      <td>120</td>\n",
       "      <td>672e3db6-3d46-4995-87f7-aea08252514f</td>\n",
       "      <td>2020-01-18</td>\n",
       "      <td>603b8641-c6f6-4d89-ac89-88e50d45aa0d</td>\n",
       "      <td>tutor</td>\n",
       "      <td>4.0</td>\n",
       "    </tr>\n",
       "    <tr>\n",
       "      <td>24</td>\n",
       "      <td>194d6536-8724-4798-98ed-5fa93c51e909</td>\n",
       "      <td>2020-01-16</td>\n",
       "      <td>2fa2ab62-f1b0-4036-872f-bcfd9a8686ff</td>\n",
       "      <td>tutor</td>\n",
       "      <td>4.0</td>\n",
       "    </tr>\n",
       "    <tr>\n",
       "      <td>...</td>\n",
       "      <td>...</td>\n",
       "      <td>...</td>\n",
       "      <td>...</td>\n",
       "      <td>...</td>\n",
       "      <td>...</td>\n",
       "    </tr>\n",
       "    <tr>\n",
       "      <td>65</td>\n",
       "      <td>3d6329b4-f5f5-4f52-857a-b8ee1222922d</td>\n",
       "      <td>2020-01-12</td>\n",
       "      <td>b37ccae8-fc31-4ad8-8f55-ca855b23fbf6</td>\n",
       "      <td>tutor</td>\n",
       "      <td>5.0</td>\n",
       "    </tr>\n",
       "    <tr>\n",
       "      <td>62</td>\n",
       "      <td>3b036097-26ee-4637-9a27-2f59db39a684</td>\n",
       "      <td>2020-01-11</td>\n",
       "      <td>603b8641-c6f6-4d89-ac89-88e50d45aa0d</td>\n",
       "      <td>tutor</td>\n",
       "      <td>5.0</td>\n",
       "    </tr>\n",
       "    <tr>\n",
       "      <td>131</td>\n",
       "      <td>6cadb935-594f-407b-b60d-706c0e09d408</td>\n",
       "      <td>2020-01-14</td>\n",
       "      <td>c31d06f1-b667-489f-af70-d2c88402826c</td>\n",
       "      <td>tutor</td>\n",
       "      <td>5.0</td>\n",
       "    </tr>\n",
       "    <tr>\n",
       "      <td>246</td>\n",
       "      <td>ffea312b-e74e-434e-ba37-fd53f5dbb9e3</td>\n",
       "      <td>2020-01-19</td>\n",
       "      <td>8fe03f08-8581-430c-a590-9888ab36deb3</td>\n",
       "      <td>tutor</td>\n",
       "      <td>5.0</td>\n",
       "    </tr>\n",
       "    <tr>\n",
       "      <td>209</td>\n",
       "      <td>e3b40613-d6ca-41f2-a7b4-d6eabe3247e0</td>\n",
       "      <td>2020-01-18</td>\n",
       "      <td>eb47bfc8-ff11-42cd-a48b-1c88aca067f7</td>\n",
       "      <td>tutor</td>\n",
       "      <td>NaN</td>\n",
       "    </tr>\n",
       "  </tbody>\n",
       "</table>\n",
       "<p>124 rows × 5 columns</p>\n",
       "</div>"
      ],
      "text/plain": [
       "                                      id_x scheduled_time  \\\n",
       "106  577ae94d-45c8-4804-9a50-40e91048d81d      2020-01-18   \n",
       "126  69131767-f538-4305-ad4d-2f854f64e210      2020-01-11   \n",
       "163  aedb6420-b5ad-4126-9590-83830b83245e      2020-01-14   \n",
       "120  672e3db6-3d46-4995-87f7-aea08252514f      2020-01-18   \n",
       "24   194d6536-8724-4798-98ed-5fa93c51e909      2020-01-16   \n",
       "..                                     ...            ...   \n",
       "65   3d6329b4-f5f5-4f52-857a-b8ee1222922d      2020-01-12   \n",
       "62   3b036097-26ee-4637-9a27-2f59db39a684      2020-01-11   \n",
       "131  6cadb935-594f-407b-b60d-706c0e09d408      2020-01-14   \n",
       "246  ffea312b-e74e-434e-ba37-fd53f5dbb9e3      2020-01-19   \n",
       "209  e3b40613-d6ca-41f2-a7b4-d6eabe3247e0      2020-01-18   \n",
       "\n",
       "                                  user_id   role  tech_quality  \n",
       "106  43efce48-94b2-4412-857f-223d45969008  tutor           2.0  \n",
       "126  8fe03f08-8581-430c-a590-9888ab36deb3  tutor           3.0  \n",
       "163  c6718d0e-976c-4d6c-b0e0-32c770776567  tutor           4.0  \n",
       "120  603b8641-c6f6-4d89-ac89-88e50d45aa0d  tutor           4.0  \n",
       "24   2fa2ab62-f1b0-4036-872f-bcfd9a8686ff  tutor           4.0  \n",
       "..                                    ...    ...           ...  \n",
       "65   b37ccae8-fc31-4ad8-8f55-ca855b23fbf6  tutor           5.0  \n",
       "62   603b8641-c6f6-4d89-ac89-88e50d45aa0d  tutor           5.0  \n",
       "131  c31d06f1-b667-489f-af70-d2c88402826c  tutor           5.0  \n",
       "246  8fe03f08-8581-430c-a590-9888ab36deb3  tutor           5.0  \n",
       "209  eb47bfc8-ff11-42cd-a48b-1c88aca067f7  tutor           NaN  \n",
       "\n",
       "[124 rows x 5 columns]"
      ]
     },
     "execution_count": 541,
     "metadata": {},
     "output_type": "execute_result"
    }
   ],
   "source": [
    "final2 = final[final[\"role\"] == \"tutor\"].sort_values(\"tech_quality\")\n",
    "final2"
   ]
  },
  {
   "cell_type": "code",
   "execution_count": 542,
   "metadata": {},
   "outputs": [],
   "source": [
    "del final2[\"id_x\"]\n",
    "del final2[\"role\"]"
   ]
  },
  {
   "cell_type": "code",
   "execution_count": 543,
   "metadata": {},
   "outputs": [
    {
     "data": {
      "text/html": [
       "<div>\n",
       "<style scoped>\n",
       "    .dataframe tbody tr th:only-of-type {\n",
       "        vertical-align: middle;\n",
       "    }\n",
       "\n",
       "    .dataframe tbody tr th {\n",
       "        vertical-align: top;\n",
       "    }\n",
       "\n",
       "    .dataframe thead th {\n",
       "        text-align: right;\n",
       "    }\n",
       "</style>\n",
       "<table border=\"1\" class=\"dataframe\">\n",
       "  <thead>\n",
       "    <tr style=\"text-align: right;\">\n",
       "      <th></th>\n",
       "      <th>scheduled_time</th>\n",
       "      <th>user_id</th>\n",
       "      <th>tech_quality</th>\n",
       "    </tr>\n",
       "  </thead>\n",
       "  <tbody>\n",
       "    <tr>\n",
       "      <td>106</td>\n",
       "      <td>2020-01-18</td>\n",
       "      <td>43efce48-94b2-4412-857f-223d45969008</td>\n",
       "      <td>2.0</td>\n",
       "    </tr>\n",
       "    <tr>\n",
       "      <td>126</td>\n",
       "      <td>2020-01-11</td>\n",
       "      <td>8fe03f08-8581-430c-a590-9888ab36deb3</td>\n",
       "      <td>3.0</td>\n",
       "    </tr>\n",
       "    <tr>\n",
       "      <td>163</td>\n",
       "      <td>2020-01-14</td>\n",
       "      <td>c6718d0e-976c-4d6c-b0e0-32c770776567</td>\n",
       "      <td>4.0</td>\n",
       "    </tr>\n",
       "    <tr>\n",
       "      <td>120</td>\n",
       "      <td>2020-01-18</td>\n",
       "      <td>603b8641-c6f6-4d89-ac89-88e50d45aa0d</td>\n",
       "      <td>4.0</td>\n",
       "    </tr>\n",
       "    <tr>\n",
       "      <td>24</td>\n",
       "      <td>2020-01-16</td>\n",
       "      <td>2fa2ab62-f1b0-4036-872f-bcfd9a8686ff</td>\n",
       "      <td>4.0</td>\n",
       "    </tr>\n",
       "  </tbody>\n",
       "</table>\n",
       "</div>"
      ],
      "text/plain": [
       "    scheduled_time                               user_id  tech_quality\n",
       "106     2020-01-18  43efce48-94b2-4412-857f-223d45969008           2.0\n",
       "126     2020-01-11  8fe03f08-8581-430c-a590-9888ab36deb3           3.0\n",
       "163     2020-01-14  c6718d0e-976c-4d6c-b0e0-32c770776567           4.0\n",
       "120     2020-01-18  603b8641-c6f6-4d89-ac89-88e50d45aa0d           4.0\n",
       "24      2020-01-16  2fa2ab62-f1b0-4036-872f-bcfd9a8686ff           4.0"
      ]
     },
     "execution_count": 543,
     "metadata": {},
     "output_type": "execute_result"
    }
   ],
   "source": [
    "final2.head()"
   ]
  },
  {
   "cell_type": "code",
   "execution_count": 544,
   "metadata": {},
   "outputs": [
    {
     "data": {
      "text/html": [
       "<div>\n",
       "<style scoped>\n",
       "    .dataframe tbody tr th:only-of-type {\n",
       "        vertical-align: middle;\n",
       "    }\n",
       "\n",
       "    .dataframe tbody tr th {\n",
       "        vertical-align: top;\n",
       "    }\n",
       "\n",
       "    .dataframe thead th {\n",
       "        text-align: right;\n",
       "    }\n",
       "</style>\n",
       "<table border=\"1\" class=\"dataframe\">\n",
       "  <thead>\n",
       "    <tr style=\"text-align: right;\">\n",
       "      <th></th>\n",
       "      <th>user_id</th>\n",
       "      <th>tech_quality</th>\n",
       "    </tr>\n",
       "    <tr>\n",
       "      <th>scheduled_time</th>\n",
       "      <th></th>\n",
       "      <th></th>\n",
       "    </tr>\n",
       "  </thead>\n",
       "  <tbody>\n",
       "    <tr>\n",
       "      <td>2020-01-11</td>\n",
       "      <td>2fa2ab62-f1b0-4036-872f-bcfd9a8686ff</td>\n",
       "      <td>3.0</td>\n",
       "    </tr>\n",
       "    <tr>\n",
       "      <td>2020-01-12</td>\n",
       "      <td>2fa2ab62-f1b0-4036-872f-bcfd9a8686ff</td>\n",
       "      <td>4.5</td>\n",
       "    </tr>\n",
       "    <tr>\n",
       "      <td>2020-01-13</td>\n",
       "      <td>2fa2ab62-f1b0-4036-872f-bcfd9a8686ff</td>\n",
       "      <td>5.0</td>\n",
       "    </tr>\n",
       "    <tr>\n",
       "      <td>2020-01-14</td>\n",
       "      <td>2fa2ab62-f1b0-4036-872f-bcfd9a8686ff</td>\n",
       "      <td>4.0</td>\n",
       "    </tr>\n",
       "    <tr>\n",
       "      <td>2020-01-15</td>\n",
       "      <td>603b8641-c6f6-4d89-ac89-88e50d45aa0d</td>\n",
       "      <td>5.0</td>\n",
       "    </tr>\n",
       "    <tr>\n",
       "      <td>2020-01-16</td>\n",
       "      <td>2fa2ab62-f1b0-4036-872f-bcfd9a8686ff</td>\n",
       "      <td>4.0</td>\n",
       "    </tr>\n",
       "    <tr>\n",
       "      <td>2020-01-17</td>\n",
       "      <td>30a19496-bdaf-461c-abbc-2709ae520201</td>\n",
       "      <td>4.5</td>\n",
       "    </tr>\n",
       "    <tr>\n",
       "      <td>2020-01-18</td>\n",
       "      <td>1c39e78f-6ded-4b2e-83d6-036ca34ecfdc</td>\n",
       "      <td>2.0</td>\n",
       "    </tr>\n",
       "    <tr>\n",
       "      <td>2020-01-19</td>\n",
       "      <td>43efce48-94b2-4412-857f-223d45969008</td>\n",
       "      <td>4.5</td>\n",
       "    </tr>\n",
       "    <tr>\n",
       "      <td>2020-01-20</td>\n",
       "      <td>2fa2ab62-f1b0-4036-872f-bcfd9a8686ff</td>\n",
       "      <td>4.0</td>\n",
       "    </tr>\n",
       "  </tbody>\n",
       "</table>\n",
       "</div>"
      ],
      "text/plain": [
       "                                             user_id  tech_quality\n",
       "scheduled_time                                                    \n",
       "2020-01-11      2fa2ab62-f1b0-4036-872f-bcfd9a8686ff           3.0\n",
       "2020-01-12      2fa2ab62-f1b0-4036-872f-bcfd9a8686ff           4.5\n",
       "2020-01-13      2fa2ab62-f1b0-4036-872f-bcfd9a8686ff           5.0\n",
       "2020-01-14      2fa2ab62-f1b0-4036-872f-bcfd9a8686ff           4.0\n",
       "2020-01-15      603b8641-c6f6-4d89-ac89-88e50d45aa0d           5.0\n",
       "2020-01-16      2fa2ab62-f1b0-4036-872f-bcfd9a8686ff           4.0\n",
       "2020-01-17      30a19496-bdaf-461c-abbc-2709ae520201           4.5\n",
       "2020-01-18      1c39e78f-6ded-4b2e-83d6-036ca34ecfdc           2.0\n",
       "2020-01-19      43efce48-94b2-4412-857f-223d45969008           4.5\n",
       "2020-01-20      2fa2ab62-f1b0-4036-872f-bcfd9a8686ff           4.0"
      ]
     },
     "execution_count": 544,
     "metadata": {},
     "output_type": "execute_result"
    }
   ],
   "source": [
    "final2.groupby(\"scheduled_time\").min()"
   ]
  }
 ],
 "metadata": {
  "kernelspec": {
   "display_name": "Python 3",
   "language": "python",
   "name": "python3"
  },
  "language_info": {
   "codemirror_mode": {
    "name": "ipython",
    "version": 3
   },
   "file_extension": ".py",
   "mimetype": "text/x-python",
   "name": "python",
   "nbconvert_exporter": "python",
   "pygments_lexer": "ipython3",
   "version": "3.7.4"
  }
 },
 "nbformat": 4,
 "nbformat_minor": 2
}
